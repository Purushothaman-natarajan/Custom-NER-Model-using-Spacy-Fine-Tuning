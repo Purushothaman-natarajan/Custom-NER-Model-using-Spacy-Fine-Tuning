{
 "cells": [
  {
   "cell_type": "code",
   "execution_count": null,
   "id": "061ebf49-eb9a-4bf7-9abd-df48abd808a5",
   "metadata": {},
   "outputs": [],
   "source": [
    "!nvidia-smi"
   ]
  },
  {
   "cell_type": "code",
   "execution_count": null,
   "id": "a5cc9472-8cd2-4b77-b2fe-60b9fd52aa6a",
   "metadata": {},
   "outputs": [],
   "source": [
    "pip install transformers datasets evaluate seqeval[cuda]\n",
    "pip install -U bitsandbytes==0.40.0"
   ]
  },
  {
   "cell_type": "code",
   "execution_count": null,
   "id": "f43cbe14-22e7-4d4c-b835-c176e543f8d6",
   "metadata": {},
   "outputs": [],
   "source": [
    "pip install pandas"
   ]
  },
  {
   "cell_type": "code",
   "execution_count": null,
   "id": "8041155b-48e7-46e7-a068-0862e18a8ea5",
   "metadata": {},
   "outputs": [],
   "source": [
    "pip install mpi4py"
   ]
  },
  {
   "cell_type": "code",
   "execution_count": null,
   "id": "6acfc73f-5861-4f40-a8f9-e753b0c2c3b6",
   "metadata": {},
   "outputs": [],
   "source": [
    "pip install transformers seqeval[gpu]"
   ]
  },
  {
   "cell_type": "code",
   "execution_count": null,
   "id": "b239503b-da6d-46a9-8b05-6c652cb7ed0c",
   "metadata": {},
   "outputs": [],
   "source": [
    "pip install scikit-learn"
   ]
  },
  {
   "cell_type": "code",
   "execution_count": null,
   "id": "d9344909-0807-45ca-b736-46ea9b3a248b",
   "metadata": {},
   "outputs": [],
   "source": [
    "pip install ray"
   ]
  },
  {
   "cell_type": "code",
   "execution_count": null,
   "id": "87743469-85cd-4d54-9e47-cf1ddeb8736d",
   "metadata": {},
   "outputs": [],
   "source": [
    "pip install pydantic==1.10.13"
   ]
  },
  {
   "cell_type": "code",
   "execution_count": null,
   "id": "f9774cfd-a0a3-4cda-95ec-b23e197d6474",
   "metadata": {},
   "outputs": [],
   "source": [
    "pip install modin"
   ]
  },
  {
   "cell_type": "code",
   "execution_count": 49,
   "id": "d2e9991c-a49f-4031-b607-544ea02a1558",
   "metadata": {},
   "outputs": [
    {
     "name": "stdout",
     "output_type": "stream",
     "text": [
      "Collecting rouge_score\n",
      "  Downloading rouge_score-0.1.2.tar.gz (17 kB)\n",
      "  Preparing metadata (setup.py) ... \u001b[?25ldone\n",
      "\u001b[?25hRequirement already satisfied: absl-py in /home/sridhanya_ganapathi_team_neustar/llm/lib/python3.10/site-packages (from rouge_score) (2.0.0)\n",
      "Requirement already satisfied: nltk in /home/sridhanya_ganapathi_team_neustar/llm/lib/python3.10/site-packages (from rouge_score) (3.8.1)\n",
      "Requirement already satisfied: numpy in /home/sridhanya_ganapathi_team_neustar/llm/lib/python3.10/site-packages (from rouge_score) (1.26.2)\n",
      "Requirement already satisfied: six>=1.14.0 in /home/sridhanya_ganapathi_team_neustar/llm/lib/python3.10/site-packages (from rouge_score) (1.16.0)\n",
      "Requirement already satisfied: click in /home/sridhanya_ganapathi_team_neustar/llm/lib/python3.10/site-packages (from nltk->rouge_score) (8.1.7)\n",
      "Requirement already satisfied: joblib in /home/sridhanya_ganapathi_team_neustar/llm/lib/python3.10/site-packages (from nltk->rouge_score) (1.3.2)\n",
      "Requirement already satisfied: regex>=2021.8.3 in /home/sridhanya_ganapathi_team_neustar/llm/lib/python3.10/site-packages (from nltk->rouge_score) (2023.10.3)\n",
      "Requirement already satisfied: tqdm in /home/sridhanya_ganapathi_team_neustar/llm/lib/python3.10/site-packages (from nltk->rouge_score) (4.66.1)\n",
      "Building wheels for collected packages: rouge_score\n",
      "  Building wheel for rouge_score (setup.py) ... \u001b[?25ldone\n",
      "\u001b[?25h  Created wheel for rouge_score: filename=rouge_score-0.1.2-py3-none-any.whl size=24933 sha256=f00fb62a0a1b6b58a1a40ffe9947677e81a729ab218e1f12e0c74f6e1698f5be\n",
      "  Stored in directory: /home/sridhanya_ganapathi_team_neustar/.cache/pip/wheels/5f/dd/89/461065a73be61a532ff8599a28e9beef17985c9e9c31e541b4\n",
      "Successfully built rouge_score\n",
      "Installing collected packages: rouge_score\n",
      "Successfully installed rouge_score-0.1.2\n",
      "Note: you may need to restart the kernel to use updated packages.\n"
     ]
    }
   ],
   "source": [
    "pip install rouge_score"
   ]
  },
  {
   "cell_type": "markdown",
   "id": "30d97ec7-b543-42ad-bb23-b2ed1f37a705",
   "metadata": {},
   "source": [
    "https://data.world/collery/post-office-data/workspace/file?filename=USPO+Change+of+Address+data+Y2022.csv\n",
    "https://data.world/len/us-first-names-database\n",
    "\n",
    "https://www.kaggle.com/datasets/ahmedshahriarsakib/list-of-real-usa-addresses\n",
    "https://www.kaggle.com/datasets/datagov/usa-names\n",
    "\n",
    "https://data.world/adamhelsinger/directory-of-representatives\n",
    "https://data.world/state-of-connecticut/ikyf-f2iu"
   ]
  },
  {
   "cell_type": "code",
   "execution_count": 1,
   "id": "78129f7c-1798-4c14-a829-2fa6534c2e86",
   "metadata": {},
   "outputs": [],
   "source": [
    "import pandas as pd"
   ]
  },
  {
   "cell_type": "code",
   "execution_count": 2,
   "id": "32a577f2-ec00-4928-9550-564a726823ac",
   "metadata": {},
   "outputs": [
    {
     "name": "stdout",
     "output_type": "stream",
     "text": [
      "4.36.0.dev0\n"
     ]
    }
   ],
   "source": [
    "import transformers\n",
    "\n",
    "print(transformers.__version__)"
   ]
  },
  {
   "cell_type": "code",
   "execution_count": 3,
   "id": "95795a31-9dde-4943-b9b5-9f1d76cfe514",
   "metadata": {},
   "outputs": [
    {
     "name": "stdout",
     "output_type": "stream",
     "text": [
      "cuda\n"
     ]
    }
   ],
   "source": [
    "from torch import cuda\n",
    "device = 'cuda' if cuda.is_available() else 'cpu'\n",
    "print(device)"
   ]
  },
  {
   "cell_type": "code",
   "execution_count": 4,
   "id": "0ef59258-3799-439c-8b19-461d3d5aca3c",
   "metadata": {},
   "outputs": [],
   "source": [
    "task = \"ner\" # Should be one of \"ner\", \"pos\" or \"chunk\"\n",
    "model_checkpoint = \"distilbert-base-uncased\"\n",
    "batch_size = 16"
   ]
  },
  {
   "cell_type": "code",
   "execution_count": 5,
   "id": "8c5274e8-10f9-4c74-92af-88824246262d",
   "metadata": {},
   "outputs": [],
   "source": [
    "# Define the labels for each column\n",
    "labels = ['firstname', 'gender', 'lastname', 'zipcode', 'city', 'state']\n"
   ]
  },
  {
   "cell_type": "code",
   "execution_count": 6,
   "id": "2dca6b89-60e3-4b18-ac3b-7f50a92001c3",
   "metadata": {},
   "outputs": [
    {
     "data": {
      "application/vnd.jupyter.widget-view+json": {
       "model_id": "8b910f8953014f38a2992c503b27e8a8",
       "version_major": 2,
       "version_minor": 0
      },
      "text/plain": [
       "VBox(children=(HTML(value='<center> <img\\nsrc=https://huggingface.co/front/assets/huggingface_logo-noborder.sv…"
      ]
     },
     "metadata": {},
     "output_type": "display_data"
    }
   ],
   "source": [
    "from huggingface_hub import notebook_login\n",
    "\n",
    "notebook_login()"
   ]
  },
  {
   "cell_type": "code",
   "execution_count": 7,
   "id": "831dc74b-b2a1-4038-8f92-2c232c82fee0",
   "metadata": {},
   "outputs": [],
   "source": [
    "from datasets import load_dataset, load_metric\n",
    "\n"
   ]
  },
  {
   "cell_type": "code",
   "execution_count": 8,
   "id": "db779320-e310-455c-a48a-0b675a90cabc",
   "metadata": {},
   "outputs": [],
   "source": [
    "from datasets import concatenate_datasets, Dataset, load_from_disk, DatasetDict\n",
    "\n",
    "train_dataset=load_from_disk(\"./data/traindatasethg_name_label_list\")\n",
    "test_dataset=load_from_disk(\"./data/testdatasethg_namelabel_list\")"
   ]
  },
  {
   "cell_type": "code",
   "execution_count": 9,
   "id": "da3104d1-f00c-4e42-8092-d351e0d4e4eb",
   "metadata": {},
   "outputs": [
    {
     "data": {
      "text/plain": [
       "{'id': 'e537dade-7f29-4f32-b78f-dcb41012d372',\n",
       " 'token': '46898',\n",
       " 'ner_tag': [4]}"
      ]
     },
     "execution_count": 9,
     "metadata": {},
     "output_type": "execute_result"
    }
   ],
   "source": [
    "train_dataset[len(train_dataset)-100]"
   ]
  },
  {
   "cell_type": "code",
   "execution_count": 10,
   "id": "d31cdb98-c117-4042-81d9-bfc8efe1f64f",
   "metadata": {},
   "outputs": [],
   "source": [
    "finalds = DatasetDict({\n",
    "    'train': train_dataset,\n",
    "    'test': test_dataset})"
   ]
  },
  {
   "cell_type": "code",
   "execution_count": 11,
   "id": "a0041d35-7fea-4f26-bf36-887aa9623b65",
   "metadata": {},
   "outputs": [
    {
     "data": {
      "text/plain": [
       "{'id': '687d88dc-53a2-4b94-858d-624a9b84264f',\n",
       " 'token': 'zeyad',\n",
       " 'ner_tag': [0]}"
      ]
     },
     "execution_count": 11,
     "metadata": {},
     "output_type": "execute_result"
    }
   ],
   "source": [
    "finalds['train'][0]"
   ]
  },
  {
   "cell_type": "code",
   "execution_count": 12,
   "id": "e465a8ce-e077-413e-9e74-7fdf82f830ad",
   "metadata": {},
   "outputs": [
    {
     "data": {
      "text/plain": [
       "Sequence(feature=ClassLabel(names=['firstname', 'lastname', 'city', 'state', 'zipcode'], id=None), length=-1, id=None)"
      ]
     },
     "execution_count": 12,
     "metadata": {},
     "output_type": "execute_result"
    }
   ],
   "source": [
    "finalds[\"train\"].features[f\"ner_tag\"]\n"
   ]
  },
  {
   "cell_type": "code",
   "execution_count": 13,
   "id": "6934cd45-9c5f-4a1f-af22-fe8ab3b329e2",
   "metadata": {},
   "outputs": [],
   "source": [
    "label_list = finalds[\"train\"].features[f\"ner_tag\"].feature.names\n"
   ]
  },
  {
   "cell_type": "code",
   "execution_count": 14,
   "id": "c4d29d80-b8a8-4a4e-acc7-dd755d204a67",
   "metadata": {},
   "outputs": [
    {
     "data": {
      "text/plain": [
       "['firstname', 'lastname', 'city', 'state', 'zipcode']"
      ]
     },
     "execution_count": 14,
     "metadata": {},
     "output_type": "execute_result"
    }
   ],
   "source": [
    "label_list"
   ]
  },
  {
   "cell_type": "code",
   "execution_count": 15,
   "id": "0d7adc25-24bb-49b4-86e4-46fe7ebef0a0",
   "metadata": {},
   "outputs": [
    {
     "data": {
      "text/plain": [
       "{'firstname': 0, 'lastname': 1, 'city': 2, 'state': 3, 'zipcode': 4}"
      ]
     },
     "execution_count": 15,
     "metadata": {},
     "output_type": "execute_result"
    }
   ],
   "source": [
    "labels=label_list\n",
    "id2label = {idx:label for idx, label in enumerate(labels)}\n",
    "label2id = {label:idx for idx, label in enumerate(labels)}\n",
    "label2id"
   ]
  },
  {
   "cell_type": "code",
   "execution_count": 16,
   "id": "96cc3593-3133-420f-9df5-b67124963787",
   "metadata": {},
   "outputs": [],
   "source": [
    "from transformers import AutoTokenizer\n",
    "\n",
    "tokenizer = AutoTokenizer.from_pretrained(model_checkpoint)\n"
   ]
  },
  {
   "cell_type": "code",
   "execution_count": 17,
   "id": "8c1e60ff-7781-4b21-aef9-9ce6ddca2ed4",
   "metadata": {},
   "outputs": [],
   "source": [
    "import transformers\n",
    "assert isinstance(tokenizer, transformers.PreTrainedTokenizerFast)"
   ]
  },
  {
   "cell_type": "code",
   "execution_count": 18,
   "id": "77b69a3f-45c4-4a3a-beaf-e5b3f99532f1",
   "metadata": {},
   "outputs": [
    {
     "data": {
      "text/plain": [
       "['[CLS]', 'ze', '##yad', '[SEP]']"
      ]
     },
     "execution_count": 18,
     "metadata": {},
     "output_type": "execute_result"
    }
   ],
   "source": [
    "example = finalds[\"train\"][0]\n",
    "tokenized_input = tokenizer(example[\"token\"], is_split_into_words=False)\n",
    "tokens = tokenizer.convert_ids_to_tokens(tokenized_input[\"input_ids\"])\n",
    "tokens"
   ]
  },
  {
   "cell_type": "code",
   "execution_count": 19,
   "id": "4e5af224-0a33-4950-aebf-3acf5a53c301",
   "metadata": {},
   "outputs": [
    {
     "data": {
      "text/plain": [
       "{'id': 'b63dc4f4-6813-48fc-833a-5585f09dbc1e',\n",
       " 'token': 'teron',\n",
       " 'ner_tag': [0]}"
      ]
     },
     "execution_count": 19,
     "metadata": {},
     "output_type": "execute_result"
    }
   ],
   "source": [
    " finalds[\"test\"][0]"
   ]
  },
  {
   "cell_type": "code",
   "execution_count": 20,
   "id": "d006808d-f1f5-4300-aa82-2e3278333273",
   "metadata": {},
   "outputs": [],
   "source": [
    "def tokenize_and_align_labels(examples):\n",
    "    tokenized_inputs = tokenizer(examples[\"token\"], truncation=True, is_split_into_words=False)\n",
    "    tokenized_inputs[\"labels\"] = examples[f\"ner_tag\"]\n",
    "    return tokenized_inputs"
   ]
  },
  {
   "cell_type": "code",
   "execution_count": 21,
   "id": "58512252-2e61-4a64-ab06-6f537fafe9d0",
   "metadata": {},
   "outputs": [
    {
     "data": {
      "text/plain": [
       "{'id': Value(dtype='string', id=None),\n",
       " 'token': Value(dtype='string', id=None),\n",
       " 'ner_tag': Sequence(feature=ClassLabel(names=['firstname', 'lastname', 'city', 'state', 'zipcode'], id=None), length=-1, id=None)}"
      ]
     },
     "execution_count": 21,
     "metadata": {},
     "output_type": "execute_result"
    }
   ],
   "source": [
    "finalds['train'].features"
   ]
  },
  {
   "cell_type": "code",
   "execution_count": 22,
   "id": "f323cf49-cb50-4b73-ae11-a920f767491e",
   "metadata": {},
   "outputs": [],
   "source": [
    "tokenized_inputs = finalds.map(tokenize_and_align_labels, batched=True)\n"
   ]
  },
  {
   "cell_type": "code",
   "execution_count": 23,
   "id": "46a76826-986c-4005-a87e-558f33a05d01",
   "metadata": {},
   "outputs": [
    {
     "name": "stdout",
     "output_type": "stream",
     "text": [
      "dict_keys(['id', 'token', 'ner_tag', 'input_ids', 'attention_mask', 'labels'])\n"
     ]
    }
   ],
   "source": [
    "\n",
    "example = tokenized_inputs['train'][0]\n",
    "print(example.keys())"
   ]
  },
  {
   "cell_type": "code",
   "execution_count": 24,
   "id": "58fbf7c3-35f6-4a36-9caa-9045612d2395",
   "metadata": {},
   "outputs": [
    {
     "name": "stderr",
     "output_type": "stream",
     "text": [
      "2023-12-07 18:02:32.462505: I tensorflow/core/util/port.cc:111] oneDNN custom operations are on. You may see slightly different numerical results due to floating-point round-off errors from different computation orders. To turn them off, set the environment variable `TF_ENABLE_ONEDNN_OPTS=0`.\n",
      "2023-12-07 18:02:32.516021: E tensorflow/compiler/xla/stream_executor/cuda/cuda_dnn.cc:9342] Unable to register cuDNN factory: Attempting to register factory for plugin cuDNN when one has already been registered\n",
      "2023-12-07 18:02:32.516054: E tensorflow/compiler/xla/stream_executor/cuda/cuda_fft.cc:609] Unable to register cuFFT factory: Attempting to register factory for plugin cuFFT when one has already been registered\n",
      "2023-12-07 18:02:32.516131: E tensorflow/compiler/xla/stream_executor/cuda/cuda_blas.cc:1518] Unable to register cuBLAS factory: Attempting to register factory for plugin cuBLAS when one has already been registered\n",
      "2023-12-07 18:02:32.525777: I tensorflow/core/platform/cpu_feature_guard.cc:182] This TensorFlow binary is optimized to use available CPU instructions in performance-critical operations.\n",
      "To enable the following instructions: AVX2 AVX512F AVX512_VNNI FMA, in other operations, rebuild TensorFlow with the appropriate compiler flags.\n"
     ]
    },
    {
     "data": {
      "text/plain": [
       "'[CLS] zeyad [SEP]'"
      ]
     },
     "execution_count": 24,
     "metadata": {},
     "output_type": "execute_result"
    }
   ],
   "source": [
    "tokenizer.decode(example['input_ids'])\n"
   ]
  },
  {
   "cell_type": "code",
   "execution_count": 25,
   "id": "acc48476-fbb8-495c-9bac-0dfc7fd99377",
   "metadata": {},
   "outputs": [
    {
     "name": "stdout",
     "output_type": "stream",
     "text": [
      "\n",
      "===================================BUG REPORT===================================\n",
      "Welcome to bitsandbytes. For bug reports, please run\n",
      "\n",
      "python -m bitsandbytes\n",
      "\n",
      " and submit this information together with your error trace to: https://github.com/TimDettmers/bitsandbytes/issues\n",
      "================================================================================\n",
      "bin /home/sridhanya_ganapathi_team_neustar/llm/lib/python3.10/site-packages/bitsandbytes/libbitsandbytes_cuda121.so\n",
      "CUDA SETUP: CUDA runtime path found: /usr/local/cuda/lib64/libcudart.so\n",
      "CUDA SETUP: Highest compute capability among GPUs detected: 8.9\n",
      "CUDA SETUP: Detected CUDA version 121\n",
      "CUDA SETUP: Loading binary /home/sridhanya_ganapathi_team_neustar/llm/lib/python3.10/site-packages/bitsandbytes/libbitsandbytes_cuda121.so...\n"
     ]
    },
    {
     "name": "stderr",
     "output_type": "stream",
     "text": [
      "/home/sridhanya_ganapathi_team_neustar/llm/lib/python3.10/site-packages/bitsandbytes/cuda_setup/main.py:149: UserWarning: /opt/conda/envs/llm did not contain ['libcudart.so', 'libcudart.so.11.0', 'libcudart.so.12.0'] as expected! Searching further paths...\n",
      "  warn(msg)\n",
      "Some weights of DistilBertForTokenClassification were not initialized from the model checkpoint at distilbert-base-uncased and are newly initialized: ['classifier.bias', 'classifier.weight']\n",
      "You should probably TRAIN this model on a down-stream task to be able to use it for predictions and inference.\n"
     ]
    },
    {
     "data": {
      "text/plain": [
       "DistilBertForTokenClassification(\n",
       "  (distilbert): DistilBertModel(\n",
       "    (embeddings): Embeddings(\n",
       "      (word_embeddings): Embedding(30522, 768, padding_idx=0)\n",
       "      (position_embeddings): Embedding(512, 768)\n",
       "      (LayerNorm): LayerNorm((768,), eps=1e-12, elementwise_affine=True)\n",
       "      (dropout): Dropout(p=0.1, inplace=False)\n",
       "    )\n",
       "    (transformer): Transformer(\n",
       "      (layer): ModuleList(\n",
       "        (0-5): 6 x TransformerBlock(\n",
       "          (attention): MultiHeadSelfAttention(\n",
       "            (dropout): Dropout(p=0.1, inplace=False)\n",
       "            (q_lin): Linear(in_features=768, out_features=768, bias=True)\n",
       "            (k_lin): Linear(in_features=768, out_features=768, bias=True)\n",
       "            (v_lin): Linear(in_features=768, out_features=768, bias=True)\n",
       "            (out_lin): Linear(in_features=768, out_features=768, bias=True)\n",
       "          )\n",
       "          (sa_layer_norm): LayerNorm((768,), eps=1e-12, elementwise_affine=True)\n",
       "          (ffn): FFN(\n",
       "            (dropout): Dropout(p=0.1, inplace=False)\n",
       "            (lin1): Linear(in_features=768, out_features=3072, bias=True)\n",
       "            (lin2): Linear(in_features=3072, out_features=768, bias=True)\n",
       "            (activation): GELUActivation()\n",
       "          )\n",
       "          (output_layer_norm): LayerNorm((768,), eps=1e-12, elementwise_affine=True)\n",
       "        )\n",
       "      )\n",
       "    )\n",
       "  )\n",
       "  (dropout): Dropout(p=0.1, inplace=False)\n",
       "  (classifier): Linear(in_features=768, out_features=5, bias=True)\n",
       ")"
      ]
     },
     "execution_count": 25,
     "metadata": {},
     "output_type": "execute_result"
    }
   ],
   "source": [
    "from transformers import AutoModelForTokenClassification, TrainingArguments, Trainer\n",
    "\n",
    "model = AutoModelForTokenClassification.from_pretrained(model_checkpoint, num_labels=len(label_list), label2id=label2id, id2label=id2label)\n",
    "model.to(device)"
   ]
  },
  {
   "cell_type": "code",
   "execution_count": 26,
   "id": "4407899e-9cc9-40e6-a5e6-85a4d2fe3059",
   "metadata": {},
   "outputs": [],
   "source": [
    "# tokenized_inputs.set_format(type=\"torch\", columns=[\"input_ids\", \"token_type_ids\", \"attention_mask\", \"labels\"])\n",
    "\n",
    "model_name = model_checkpoint.split(\"/\")[-1]\n",
    "args = TrainingArguments(\n",
    "    f\"{model_name}-finetuned-{task}\",\n",
    "    evaluation_strategy=\"epoch\",\n",
    "    logging_strategy=\"epoch\",\n",
    "    learning_rate=2e-5,\n",
    "    per_device_train_batch_size=16,\n",
    "    per_device_eval_batch_size=16,\n",
    "    weight_decay=0.01,\n",
    "    num_train_epochs=3,\n",
    "    save_total_limit=2,\n",
    "    save_strategy=\"epoch\",\n",
    "    load_best_model_at_end=True,\n",
    "    fp16=True,\n",
    "    push_to_hub=False,\n",
    ")"
   ]
  },
  {
   "cell_type": "code",
   "execution_count": 27,
   "id": "6014f500-99e0-48ee-b543-c93ca07d06d0",
   "metadata": {},
   "outputs": [],
   "source": [
    "from transformers import DataCollatorForTokenClassification, EarlyStoppingCallback\n",
    "\n",
    "data_collator = DataCollatorForTokenClassification(tokenizer)"
   ]
  },
  {
   "cell_type": "code",
   "execution_count": 28,
   "id": "6eca987c-cfa2-4830-89b6-29eb480b0bf6",
   "metadata": {},
   "outputs": [
    {
     "name": "stderr",
     "output_type": "stream",
     "text": [
      "/var/tmp/ipykernel_110055/152412463.py:1: FutureWarning: load_metric is deprecated and will be removed in the next major version of datasets. Use 'evaluate.load' instead, from the new library 🤗 Evaluate: https://huggingface.co/docs/evaluate\n",
      "  metric = load_metric(\"seqeval\")\n"
     ]
    }
   ],
   "source": [
    "metric = load_metric(\"seqeval\")"
   ]
  },
  {
   "cell_type": "code",
   "execution_count": 29,
   "id": "9f2f3181-c60b-4481-a967-3bb3fd5820d6",
   "metadata": {},
   "outputs": [],
   "source": [
    "labels = [label_list[i] for i in example[f\"{task}_tag\"]]"
   ]
  },
  {
   "cell_type": "code",
   "execution_count": 30,
   "id": "42075ad5-4c92-4315-ae6c-cbea927ac22d",
   "metadata": {},
   "outputs": [
    {
     "data": {
      "text/plain": [
       "['firstname']"
      ]
     },
     "execution_count": 30,
     "metadata": {},
     "output_type": "execute_result"
    }
   ],
   "source": [
    "labels"
   ]
  },
  {
   "cell_type": "code",
   "execution_count": 31,
   "id": "46aaba0d-ed9f-4376-a804-5c1d27fc3288",
   "metadata": {},
   "outputs": [
    {
     "name": "stderr",
     "output_type": "stream",
     "text": [
      "/home/sridhanya_ganapathi_team_neustar/llm/lib/python3.10/site-packages/seqeval/metrics/sequence_labeling.py:171: UserWarning: firstname seems not to be NE tag.\n",
      "  warnings.warn('{} seems not to be NE tag.'.format(chunk))\n"
     ]
    },
    {
     "data": {
      "text/plain": [
       "{'irstname': {'precision': 1.0, 'recall': 1.0, 'f1': 1.0, 'number': 1},\n",
       " 'overall_precision': 1.0,\n",
       " 'overall_recall': 1.0,\n",
       " 'overall_f1': 1.0,\n",
       " 'overall_accuracy': 1.0}"
      ]
     },
     "execution_count": 31,
     "metadata": {},
     "output_type": "execute_result"
    }
   ],
   "source": [
    "labels = [label_list[i] for i in example[f\"{task}_tag\"]]\n",
    "metric.compute(predictions=[labels], references=[labels])"
   ]
  },
  {
   "cell_type": "code",
   "execution_count": 52,
   "id": "c7ba992b-cc87-4e14-a44b-852bdd6b79f7",
   "metadata": {},
   "outputs": [],
   "source": [
    "import numpy as np\n",
    "\n",
    "def compute_metrics(p):\n",
    "    predictions, labels = p\n",
    "    predictions = np.argmax(predictions, axis=2)\n",
    "\n",
    "    # Remove ignored index (special tokens)\n",
    "    true_predictions = [\n",
    "        [label_list[p] for (p, l) in zip(prediction, label) if l != -100]\n",
    "        for prediction, label in zip(predictions, labels)\n",
    "    ]\n",
    "    true_labels = [\n",
    "        [label_list[l] for (p, l) in zip(prediction, label) if l != -100]\n",
    "        for prediction, label in zip(predictions, labels)\n",
    "    ]\n",
    "\n",
    "    results = metric.compute(predictions=true_predictions, references=true_labels)\n",
    "    print(results)\n",
    "    return {\n",
    "        \"precision\": results[\"overall_precision\"],\n",
    "        \"recall\": results[\"overall_recall\"],\n",
    "        \"f1\": results[\"overall_f1\"],\n",
    "        \"accuracy\": results[\"overall_accuracy\"],\n",
    "    }"
   ]
  },
  {
   "cell_type": "code",
   "execution_count": 33,
   "id": "73c35b5b-b56f-4e49-bf5b-fab4178753b5",
   "metadata": {},
   "outputs": [],
   "source": [
    "trainer = Trainer(\n",
    "    model,\n",
    "    args,\n",
    "    train_dataset=tokenized_inputs[\"train\"],\n",
    "    eval_dataset=tokenized_inputs[\"test\"],\n",
    "    data_collator=data_collator,\n",
    "    tokenizer=tokenizer,\n",
    "    compute_metrics=compute_metrics,\n",
    "    callbacks=[\n",
    "             EarlyStoppingCallback(early_stopping_patience=3)\n",
    "        ],\n",
    "   )"
   ]
  },
  {
   "cell_type": "code",
   "execution_count": 34,
   "id": "a2ce66fe-6750-42d6-9588-a2791f046a6b",
   "metadata": {},
   "outputs": [
    {
     "name": "stderr",
     "output_type": "stream",
     "text": [
      "You're using a DistilBertTokenizerFast tokenizer. Please note that with a fast tokenizer, using the `__call__` method is faster than using a method to encode the text followed by a call to the `pad` method to get a padded encoding.\n"
     ]
    },
    {
     "data": {
      "text/html": [
       "\n",
       "    <div>\n",
       "      \n",
       "      <progress value='22845' max='22845' style='width:300px; height:20px; vertical-align: middle;'></progress>\n",
       "      [22845/22845 19:07, Epoch 3/3]\n",
       "    </div>\n",
       "    <table border=\"1\" class=\"dataframe\">\n",
       "  <thead>\n",
       " <tr style=\"text-align: left;\">\n",
       "      <th>Epoch</th>\n",
       "      <th>Training Loss</th>\n",
       "      <th>Validation Loss</th>\n",
       "      <th>Precision</th>\n",
       "      <th>Recall</th>\n",
       "      <th>F1</th>\n",
       "      <th>Accuracy</th>\n",
       "    </tr>\n",
       "  </thead>\n",
       "  <tbody>\n",
       "    <tr>\n",
       "      <td>1</td>\n",
       "      <td>0.304000</td>\n",
       "      <td>0.262851</td>\n",
       "      <td>0.903546</td>\n",
       "      <td>0.903546</td>\n",
       "      <td>0.903546</td>\n",
       "      <td>0.903546</td>\n",
       "    </tr>\n",
       "    <tr>\n",
       "      <td>2</td>\n",
       "      <td>0.215600</td>\n",
       "      <td>0.272315</td>\n",
       "      <td>0.908897</td>\n",
       "      <td>0.908897</td>\n",
       "      <td>0.908897</td>\n",
       "      <td>0.908897</td>\n",
       "    </tr>\n",
       "    <tr>\n",
       "      <td>3</td>\n",
       "      <td>0.169900</td>\n",
       "      <td>0.293254</td>\n",
       "      <td>0.909619</td>\n",
       "      <td>0.909619</td>\n",
       "      <td>0.909619</td>\n",
       "      <td>0.909619</td>\n",
       "    </tr>\n",
       "  </tbody>\n",
       "</table><p>"
      ],
      "text/plain": [
       "<IPython.core.display.HTML object>"
      ]
     },
     "metadata": {},
     "output_type": "display_data"
    },
    {
     "name": "stderr",
     "output_type": "stream",
     "text": [
      "/home/sridhanya_ganapathi_team_neustar/llm/lib/python3.10/site-packages/seqeval/metrics/sequence_labeling.py:171: UserWarning: firstname seems not to be NE tag.\n",
      "  warnings.warn('{} seems not to be NE tag.'.format(chunk))\n",
      "/home/sridhanya_ganapathi_team_neustar/llm/lib/python3.10/site-packages/seqeval/metrics/sequence_labeling.py:171: UserWarning: lastname seems not to be NE tag.\n",
      "  warnings.warn('{} seems not to be NE tag.'.format(chunk))\n",
      "/home/sridhanya_ganapathi_team_neustar/llm/lib/python3.10/site-packages/seqeval/metrics/sequence_labeling.py:171: UserWarning: city seems not to be NE tag.\n",
      "  warnings.warn('{} seems not to be NE tag.'.format(chunk))\n",
      "/home/sridhanya_ganapathi_team_neustar/llm/lib/python3.10/site-packages/seqeval/metrics/sequence_labeling.py:171: UserWarning: state seems not to be NE tag.\n",
      "  warnings.warn('{} seems not to be NE tag.'.format(chunk))\n",
      "/home/sridhanya_ganapathi_team_neustar/llm/lib/python3.10/site-packages/seqeval/metrics/sequence_labeling.py:171: UserWarning: zipcode seems not to be NE tag.\n",
      "  warnings.warn('{} seems not to be NE tag.'.format(chunk))\n",
      "/home/sridhanya_ganapathi_team_neustar/llm/lib/python3.10/site-packages/seqeval/metrics/sequence_labeling.py:171: UserWarning: firstname seems not to be NE tag.\n",
      "  warnings.warn('{} seems not to be NE tag.'.format(chunk))\n",
      "/home/sridhanya_ganapathi_team_neustar/llm/lib/python3.10/site-packages/seqeval/metrics/sequence_labeling.py:171: UserWarning: lastname seems not to be NE tag.\n",
      "  warnings.warn('{} seems not to be NE tag.'.format(chunk))\n",
      "/home/sridhanya_ganapathi_team_neustar/llm/lib/python3.10/site-packages/seqeval/metrics/sequence_labeling.py:171: UserWarning: city seems not to be NE tag.\n",
      "  warnings.warn('{} seems not to be NE tag.'.format(chunk))\n",
      "/home/sridhanya_ganapathi_team_neustar/llm/lib/python3.10/site-packages/seqeval/metrics/sequence_labeling.py:171: UserWarning: state seems not to be NE tag.\n",
      "  warnings.warn('{} seems not to be NE tag.'.format(chunk))\n",
      "/home/sridhanya_ganapathi_team_neustar/llm/lib/python3.10/site-packages/seqeval/metrics/sequence_labeling.py:171: UserWarning: zipcode seems not to be NE tag.\n",
      "  warnings.warn('{} seems not to be NE tag.'.format(chunk))\n",
      "/home/sridhanya_ganapathi_team_neustar/llm/lib/python3.10/site-packages/seqeval/metrics/sequence_labeling.py:171: UserWarning: firstname seems not to be NE tag.\n",
      "  warnings.warn('{} seems not to be NE tag.'.format(chunk))\n",
      "/home/sridhanya_ganapathi_team_neustar/llm/lib/python3.10/site-packages/seqeval/metrics/sequence_labeling.py:171: UserWarning: lastname seems not to be NE tag.\n",
      "  warnings.warn('{} seems not to be NE tag.'.format(chunk))\n",
      "/home/sridhanya_ganapathi_team_neustar/llm/lib/python3.10/site-packages/seqeval/metrics/sequence_labeling.py:171: UserWarning: city seems not to be NE tag.\n",
      "  warnings.warn('{} seems not to be NE tag.'.format(chunk))\n",
      "/home/sridhanya_ganapathi_team_neustar/llm/lib/python3.10/site-packages/seqeval/metrics/sequence_labeling.py:171: UserWarning: state seems not to be NE tag.\n",
      "  warnings.warn('{} seems not to be NE tag.'.format(chunk))\n",
      "/home/sridhanya_ganapathi_team_neustar/llm/lib/python3.10/site-packages/seqeval/metrics/sequence_labeling.py:171: UserWarning: zipcode seems not to be NE tag.\n",
      "  warnings.warn('{} seems not to be NE tag.'.format(chunk))\n"
     ]
    },
    {
     "data": {
      "text/plain": [
       "TrainOutput(global_step=22845, training_loss=0.22983420879842417, metrics={'train_runtime': 1148.0965, 'train_samples_per_second': 318.37, 'train_steps_per_second': 19.898, 'total_flos': 515719841756640.0, 'train_loss': 0.22983420879842417, 'epoch': 3.0})"
      ]
     },
     "execution_count": 34,
     "metadata": {},
     "output_type": "execute_result"
    }
   ],
   "source": [
    "trainer.train()\n"
   ]
  },
  {
   "cell_type": "code",
   "execution_count": 35,
   "id": "5acc62c5-887e-4ac0-b71a-95afcf8fdbd3",
   "metadata": {},
   "outputs": [
    {
     "data": {
      "text/html": [],
      "text/plain": [
       "<IPython.core.display.HTML object>"
      ]
     },
     "metadata": {},
     "output_type": "display_data"
    },
    {
     "name": "stderr",
     "output_type": "stream",
     "text": [
      "/home/sridhanya_ganapathi_team_neustar/llm/lib/python3.10/site-packages/seqeval/metrics/sequence_labeling.py:171: UserWarning: firstname seems not to be NE tag.\n",
      "  warnings.warn('{} seems not to be NE tag.'.format(chunk))\n",
      "/home/sridhanya_ganapathi_team_neustar/llm/lib/python3.10/site-packages/seqeval/metrics/sequence_labeling.py:171: UserWarning: lastname seems not to be NE tag.\n",
      "  warnings.warn('{} seems not to be NE tag.'.format(chunk))\n",
      "/home/sridhanya_ganapathi_team_neustar/llm/lib/python3.10/site-packages/seqeval/metrics/sequence_labeling.py:171: UserWarning: city seems not to be NE tag.\n",
      "  warnings.warn('{} seems not to be NE tag.'.format(chunk))\n",
      "/home/sridhanya_ganapathi_team_neustar/llm/lib/python3.10/site-packages/seqeval/metrics/sequence_labeling.py:171: UserWarning: state seems not to be NE tag.\n",
      "  warnings.warn('{} seems not to be NE tag.'.format(chunk))\n",
      "/home/sridhanya_ganapathi_team_neustar/llm/lib/python3.10/site-packages/seqeval/metrics/sequence_labeling.py:171: UserWarning: zipcode seems not to be NE tag.\n",
      "  warnings.warn('{} seems not to be NE tag.'.format(chunk))\n"
     ]
    }
   ],
   "source": [
    "test_score = trainer.evaluate()\n"
   ]
  },
  {
   "cell_type": "code",
   "execution_count": 36,
   "id": "80c75106-1f9f-4da3-b765-2f50b49a6f4e",
   "metadata": {},
   "outputs": [
    {
     "data": {
      "text/plain": [
       "{'eval_loss': 0.26285120844841003,\n",
       " 'eval_precision': 0.9035456336178594,\n",
       " 'eval_recall': 0.9035456336178594,\n",
       " 'eval_f1': 0.9035456336178594,\n",
       " 'eval_accuracy': 0.9035456336178594,\n",
       " 'eval_runtime': 17.3929,\n",
       " 'eval_samples_per_second': 1751.29,\n",
       " 'eval_steps_per_second': 109.47,\n",
       " 'epoch': 3.0}"
      ]
     },
     "execution_count": 36,
     "metadata": {},
     "output_type": "execute_result"
    }
   ],
   "source": [
    "test_score"
   ]
  },
  {
   "cell_type": "code",
   "execution_count": 37,
   "id": "9b7c2d83-c43b-466d-8738-13f399128442",
   "metadata": {},
   "outputs": [],
   "source": [
    "from sklearn.metrics import classification_report,confusion_matrix\n",
    "predictions, labels, _ = trainer.predict(tokenized_inputs[\"test\"])\n",
    "predictions = np.argmax(predictions, axis=2)\n",
    "\n",
    "# Remove ignored index (special tokens)\n",
    "true_predictions = [\n",
    "    [label_list[p] for (p, l) in zip(prediction, label) if l != -100]\n",
    "    for prediction, label in zip(predictions, labels)\n",
    "]\n",
    "true_labels = [\n",
    "    [label_list[l] for (p, l) in zip(prediction, label) if l != -100]\n",
    "    for prediction, label in zip(predictions, labels)\n",
    "]\n",
    "\n",
    "results = metric.compute(predictions=true_predictions, references=true_labels)\n",
    "\n",
    "# results"
   ]
  },
  {
   "cell_type": "code",
   "execution_count": 38,
   "id": "782f50ba-f07d-4e07-8105-0b5dc8a3de08",
   "metadata": {},
   "outputs": [
    {
     "name": "stdout",
     "output_type": "stream",
     "text": [
      "\n",
      "*Classification Report:\n",
      "               precision    recall  f1-score   support\n",
      "\n",
      "        city       0.92      0.87      0.89      6092\n",
      "   firstname       0.84      0.80      0.82      6092\n",
      "    lastname       0.78      0.85      0.81      6092\n",
      "       state       1.00      1.00      1.00      6092\n",
      "     zipcode       1.00      1.00      1.00      6092\n",
      "\n",
      "    accuracy                           0.90     30460\n",
      "   macro avg       0.91      0.90      0.90     30460\n",
      "weighted avg       0.91      0.90      0.90     30460\n",
      "\n"
     ]
    }
   ],
   "source": [
    "from sklearn.metrics import classification_report,confusion_matrix\n",
    "print(\"\\n*Classification Report:\\n\", classification_report(true_labels, true_predictions))\n",
    "confusion_matrix_graph = confusion_matrix(true_labels, true_predictions)"
   ]
  },
  {
   "cell_type": "code",
   "execution_count": 39,
   "id": "3fb793af-a299-4522-8758-0270e8abd0b8",
   "metadata": {},
   "outputs": [
    {
     "data": {
      "text/plain": [
       "array([[5286,  245,  560,    1,    0],\n",
       "       [ 259, 4896,  935,    2,    0],\n",
       "       [ 225,  710, 5156,    1,    0],\n",
       "       [   0,    0,    0, 6092,    0],\n",
       "       [   0,    0,    0,    0, 6092]])"
      ]
     },
     "execution_count": 39,
     "metadata": {},
     "output_type": "execute_result"
    }
   ],
   "source": [
    "confusion_matrix_graph"
   ]
  },
  {
   "cell_type": "code",
   "execution_count": 40,
   "id": "0fd61231-eab5-420f-a8ca-46f8534ca704",
   "metadata": {},
   "outputs": [
    {
     "data": {
      "text/plain": [
       "<Axes: >"
      ]
     },
     "execution_count": 40,
     "metadata": {},
     "output_type": "execute_result"
    },
    {
     "data": {
      "image/png": "[encoded data removed]",
      "text/plain": [
       "<Figure size 640x480 with 2 Axes>"
      ]
     },
     "metadata": {},
     "output_type": "display_data"
    }
   ],
   "source": [
    "import seaborn as sns\n",
    "sns.heatmap(confusion_matrix_graph, fmt=\".0f\", annot=True, cmap='Blues',xticklabels=label_list,\n",
    "                yticklabels=label_list,\n",
    "                annot_kws={\"fontsize\":14})"
   ]
  },
  {
   "cell_type": "code",
   "execution_count": 41,
   "id": "ebfa3318-52fb-47f7-8ed2-32d45350bf8c",
   "metadata": {},
   "outputs": [
    {
     "data": {
      "text/plain": [
       "('./model/classification-ner-huggingface-trainer/tokenizer_config.json',\n",
       " './model/classification-ner-huggingface-trainer/special_tokens_map.json',\n",
       " './model/classification-ner-huggingface-trainer/vocab.txt',\n",
       " './model/classification-ner-huggingface-trainer/added_tokens.json',\n",
       " './model/classification-ner-huggingface-trainer/tokenizer.json')"
      ]
     },
     "execution_count": 41,
     "metadata": {},
     "output_type": "execute_result"
    }
   ],
   "source": [
    "model.save_pretrained(\"./model/classification-ner-huggingface-trainer\")\n",
    "tokenizer.save_pretrained(\"./model/classification-ner-huggingface-trainer\")"
   ]
  },
  {
   "cell_type": "code",
   "execution_count": 42,
   "id": "d4c2d38f-8482-4b58-a24e-5be9dfe96a6e",
   "metadata": {},
   "outputs": [
    {
     "data": {
      "text/plain": [
       "DistilBertForTokenClassification(\n",
       "  (distilbert): DistilBertModel(\n",
       "    (embeddings): Embeddings(\n",
       "      (word_embeddings): Embedding(30522, 768, padding_idx=0)\n",
       "      (position_embeddings): Embedding(512, 768)\n",
       "      (LayerNorm): LayerNorm((768,), eps=1e-12, elementwise_affine=True)\n",
       "      (dropout): Dropout(p=0.1, inplace=False)\n",
       "    )\n",
       "    (transformer): Transformer(\n",
       "      (layer): ModuleList(\n",
       "        (0-5): 6 x TransformerBlock(\n",
       "          (attention): MultiHeadSelfAttention(\n",
       "            (dropout): Dropout(p=0.1, inplace=False)\n",
       "            (q_lin): Linear(in_features=768, out_features=768, bias=True)\n",
       "            (k_lin): Linear(in_features=768, out_features=768, bias=True)\n",
       "            (v_lin): Linear(in_features=768, out_features=768, bias=True)\n",
       "            (out_lin): Linear(in_features=768, out_features=768, bias=True)\n",
       "          )\n",
       "          (sa_layer_norm): LayerNorm((768,), eps=1e-12, elementwise_affine=True)\n",
       "          (ffn): FFN(\n",
       "            (dropout): Dropout(p=0.1, inplace=False)\n",
       "            (lin1): Linear(in_features=768, out_features=3072, bias=True)\n",
       "            (lin2): Linear(in_features=3072, out_features=768, bias=True)\n",
       "            (activation): GELUActivation()\n",
       "          )\n",
       "          (output_layer_norm): LayerNorm((768,), eps=1e-12, elementwise_affine=True)\n",
       "        )\n",
       "      )\n",
       "    )\n",
       "  )\n",
       "  (dropout): Dropout(p=0.1, inplace=False)\n",
       "  (classifier): Linear(in_features=768, out_features=5, bias=True)\n",
       ")"
      ]
     },
     "execution_count": 42,
     "metadata": {},
     "output_type": "execute_result"
    }
   ],
   "source": [
    "model.to(device)"
   ]
  },
  {
   "cell_type": "code",
   "execution_count": 43,
   "id": "b8627979-de46-46c3-84d7-82217c23beeb",
   "metadata": {},
   "outputs": [],
   "source": [
    "model_saved = AutoModelForTokenClassification.from_pretrained(\"./model/classification-ner-huggingface-trainer/\")\n",
    "model_saved = model_saved.to(device)"
   ]
  },
  {
   "cell_type": "code",
   "execution_count": 44,
   "id": "b09bdc83-d7b9-4380-bfc9-25584f948deb",
   "metadata": {},
   "outputs": [],
   "source": [
    "from transformers import AutoModelForTokenClassification\n",
    "\n",
    "model_saved = AutoModelForTokenClassification.from_pretrained(\"./model/classification-ner-huggingface-trainer/\")\n",
    "tokenizer_saved = AutoTokenizer.from_pretrained(\"./model/classification-ner-huggingface-trainer/\")"
   ]
  },
  {
   "cell_type": "code",
   "execution_count": 45,
   "id": "ebd65fbc-910a-477e-813a-6f5f3593a5e7",
   "metadata": {},
   "outputs": [
    {
     "data": {
      "text/plain": [
       "[[{'entity': 'firstname',\n",
       "   'score': 0.5678732,\n",
       "   'index': 1,\n",
       "   'word': 'john',\n",
       "   'start': 0,\n",
       "   'end': 4}]]"
      ]
     },
     "execution_count": 45,
     "metadata": {},
     "output_type": "execute_result"
    }
   ],
   "source": [
    "from transformers import pipeline\n",
    "\n",
    "text = [\"john\"]\n",
    "ner = pipeline(\n",
    "            task=\"ner\", \n",
    "            model=model_saved,\n",
    "            tokenizer=tokenizer_saved\n",
    "        )\n",
    "ner(text)"
   ]
  },
  {
   "cell_type": "code",
   "execution_count": 46,
   "id": "36b830d2-7c91-477f-b520-83f478ec98de",
   "metadata": {},
   "outputs": [
    {
     "name": "stdout",
     "output_type": "stream",
     "text": [
      "['accuracy', 'bertscore', 'bleu', 'bleurt', 'brier_score', 'cer', 'character', 'charcut_mt', 'chrf', 'code_eval', 'comet', 'competition_math', 'coval', 'cuad', 'exact_match', 'f1', 'frugalscore', 'glue', 'google_bleu', 'indic_glue', 'mae', 'mahalanobis', 'mape', 'mase', 'matthews_correlation', 'mauve', 'mean_iou', 'meteor', 'mse', 'nist_mt', 'pearsonr', 'perplexity', 'poseval', 'precision', 'r_squared', 'recall', 'rl_reliability', 'roc_auc', 'rouge', 'sacrebleu', 'sari', 'seqeval', 'smape', 'spearmanr', 'squad', 'squad_v2', 'super_glue', 'ter', 'trec_eval', 'wer', 'wiki_split', 'xnli', 'xtreme_s', 'AlhitawiMohammed22/CER_Hu-Evaluation-Metrics', 'BucketHeadP65/confusion_matrix', 'BucketHeadP65/roc_curve', 'DarrenChensformer/eval_keyphrase', 'DarrenChensformer/relation_extraction', 'Drunper/metrica_tesi', 'Felipehonorato/eer', 'GMFTBY/dailydialog_evaluate', 'GMFTBY/dailydialogevaluate', 'He-Xingwei/sari_metric', 'Ikala-allen/relation_extraction', 'JP-SystemsX/nDCG', 'Josh98/nl2bash_m', 'KevinSpaghetti/accuracyk', 'Muennighoff/code_eval_octopack', 'NCSOFT/harim_plus', 'Natooz/ece', 'NikitaMartynov/spell-check-metric', 'NimaBoscarino/weat', 'Ochiroo/rouge_mn', 'Pipatpong/perplexity', 'SpfIo/wer_checker', 'Splend1dchan/cosine_similarity', 'Vallp/ter', 'Vertaix/vendiscore', 'Viona/fuzzy_reordering', 'Viona/infolm', 'Viona/kendall_tau', 'Vipitis/shadermatch', 'Vlasta/pr_auc', 'Yeshwant123/mcc', 'abdusah/aradiawer', 'abidlabs/mean_iou', 'abidlabs/mean_iou2', 'amitness/perplexity', 'andstor/code_perplexity', 'angelina-wang/directional_bias_amplification', 'anz2/iliauniiccocrevaluation', 'arthurvqin/pr_auc', 'aryopg/roc_auc_skip_uniform_labels', 'bdsaglam/jer', 'brian920128/doc_retrieve_metrics', 'bstrai/classification_report', 'bugbounty1806/accuracy', 'cakiki/ndcg', 'carletoncognitivescience/peak_signal_to_noise_ratio', 'chanelcolgate/average_precision', 'ckb/unigram', 'codeparrot/apps_metric', 'cpllab/syntaxgym', 'd-matrix/dmx_perplexity', 'daiyizheng/valid', 'danieldux/hierarchical_softmax_loss', 'dvitel/codebleu', 'ecody726/bertscore', 'erntkn/dice_coefficient', 'fnvls/bleu1234', 'fnvls/bleu_1234', 'fschlatt/ner_eval', 'gabeorlanski/bc_eval', 'giulio98/code_eval_outputs', 'giulio98/codebleu', 'gjacob/wiki_split', 'gnail/cosine_similarity', 'gorkaartola/metric_for_tp_fp_samples', 'guydav/restrictedpython_code_eval', 'hack/test_metric', 'harshhpareek/bertscore', 'hpi-dhc/FairEval', 'hynky/sklearn_proxy', 'hyperml/balanced_accuracy', 'idsedykh/codebleu', 'idsedykh/codebleu2', 'idsedykh/megaglue', 'idsedykh/metric', 'illorca/FairEval', 'ingyu/klue_mrc', 'jjkim0807/code_eval', 'jordyvl/ece', 'jpxkqx/peak_signal_to_noise_ratio', 'jpxkqx/signal_to_reconstruction_error', 'jzm-mailchimp/joshs_second_test_metric', 'k4black/codebleu', 'kashif/mape', 'kedudzic/charmatch', 'kyokote/my_metric2', 'langdonholmes/cohen_weighted_kappa', 'leslyarun/fbeta_score', 'lhy/hamming_loss', 'lhy/ranking_loss', 'loubnabnl/apps_metric2', 'lvwerra/accuracy_score', 'lvwerra/bary_score', 'lvwerra/test', 'manueldeprada/beer', 'mfumanelli/geometric_mean', 'mgfrantz/roc_auc_macro', 'mtc/fragments', 'nevikw39/specificity', 'nlpln/tst', 'ola13/precision_at_k', 'omidf/squad_precision_recall', 'posicube/mean_reciprocal_rank', 'repllabs/mean_average_precision', 'repllabs/mean_reciprocal_rank', 'ronaldahmed/nwentfaithfulness', 'sakusakumura/bertscore', 'shalakasatheesh/squad', 'shalakasatheesh/squad_v2', 'shirayukikun/sescore', 'shunzh/apps_metric', 'sma2023/wil', 'sportlosos/sescore', 'tialaeMceryu/unigram', 'transZ/sbert_cosine', 'transZ/test_parascore', 'transformersegmentation/segmentation_scores', 'unitxt/metric', 'unnati/kendall_tau_distance', 'vichyt/metric-codebleu', 'weiqis/pajm', 'xu1998hz/sescore', 'xu1998hz/sescore_english_coco', 'xu1998hz/sescore_english_mt', 'xu1998hz/sescore_english_webnlg', 'xu1998hz/sescore_german_mt', 'ybelkada/cocoevaluate', 'yonting/average_precision_score', 'yqsong/execution_accuracy', 'yulong-me/yl_metric', 'yuyijiong/quad_match_score', 'yzha/ctc_eval', 'zbeloki/m2']\n"
     ]
    },
    {
     "name": "stderr",
     "output_type": "stream",
     "text": [
      "/var/tmp/ipykernel_110055/1722447465.py:2: FutureWarning: list_metrics is deprecated and will be removed in the next major version of datasets. Use 'evaluate.list_evaluation_modules' instead, from the new library 🤗 Evaluate: https://huggingface.co/docs/evaluate\n",
      "  metrics_list = list_metrics()\n"
     ]
    }
   ],
   "source": [
    "from datasets import list_metrics\n",
    "metrics_list = list_metrics()\n",
    "len(metrics_list)\n",
    "print(metrics_list)\n",
    "\n",
    "# ['accuracy', 'bertscore', 'bleu', 'bleurt', 'cer', 'comet', 'coval', 'cuad', 'f1', 'gleu', 'glue', \n",
    "#  'indic_glue', 'matthews_correlation', 'meteor', 'pearsonr', 'precision', 'recall', 'rouge', 'sacrebleu',\n",
    "#  'sari', 'seqeval', 'spearmanr', 'squad', 'squad_v2', 'super_glue', 'wer', 'wiki_split', 'xnli']\n"
   ]
  },
  {
   "cell_type": "code",
   "execution_count": null,
   "id": "b19a9f78-e0d3-4b85-a0ce-2bc59a0e6902",
   "metadata": {},
   "outputs": [],
   "source": []
  }
 ],
 "metadata": {
  "kernelspec": {
   "display_name": "llm",
   "language": "python",
   "name": "llm"
  },
  "language_info": {
   "codemirror_mode": {
    "name": "ipython",
    "version": 3
   },
   "file_extension": ".py",
   "mimetype": "text/x-python",
   "name": "python",
   "nbconvert_exporter": "python",
   "pygments_lexer": "ipython3",
   "version": "3.9.2"
  }
 },
 "nbformat": 4,
 "nbformat_minor": 5
}
