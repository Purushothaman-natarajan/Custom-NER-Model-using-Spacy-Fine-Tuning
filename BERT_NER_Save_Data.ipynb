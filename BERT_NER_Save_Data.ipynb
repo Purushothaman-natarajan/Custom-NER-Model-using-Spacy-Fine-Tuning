{
 "cells": [
  {
   "cell_type": "code",
   "execution_count": null,
   "id": "061ebf49-eb9a-4bf7-9abd-df48abd808a5",
   "metadata": {},
   "outputs": [],
   "source": [
    "!nvidia-smi"
   ]
  },
  {
   "cell_type": "code",
   "execution_count": null,
   "id": "a5cc9472-8cd2-4b77-b2fe-60b9fd52aa6a",
   "metadata": {},
   "outputs": [],
   "source": [
    "pip install transformers datasets evaluate seqeval[cuda]\n"
   ]
  },
  {
   "cell_type": "code",
   "execution_count": null,
   "id": "f43cbe14-22e7-4d4c-b835-c176e543f8d6",
   "metadata": {},
   "outputs": [],
   "source": [
    "pip install pandas"
   ]
  },
  {
   "cell_type": "code",
   "execution_count": null,
   "id": "8041155b-48e7-46e7-a068-0862e18a8ea5",
   "metadata": {},
   "outputs": [],
   "source": [
    "pip install mpi4py"
   ]
  },
  {
   "cell_type": "code",
   "execution_count": null,
   "id": "6acfc73f-5861-4f40-a8f9-e753b0c2c3b6",
   "metadata": {},
   "outputs": [],
   "source": [
    "pip install transformers seqeval[gpu]"
   ]
  },
  {
   "cell_type": "code",
   "execution_count": null,
   "id": "b239503b-da6d-46a9-8b05-6c652cb7ed0c",
   "metadata": {},
   "outputs": [],
   "source": [
    "pip install scikit-learn"
   ]
  },
  {
   "cell_type": "code",
   "execution_count": null,
   "id": "d9344909-0807-45ca-b736-46ea9b3a248b",
   "metadata": {},
   "outputs": [],
   "source": [
    "pip install ray"
   ]
  },
  {
   "cell_type": "code",
   "execution_count": null,
   "id": "87743469-85cd-4d54-9e47-cf1ddeb8736d",
   "metadata": {},
   "outputs": [],
   "source": [
    "pip install pydantic==1.10.13"
   ]
  },
  {
   "cell_type": "code",
   "execution_count": null,
   "id": "f9774cfd-a0a3-4cda-95ec-b23e197d6474",
   "metadata": {},
   "outputs": [],
   "source": [
    "pip install modin"
   ]
  },
  {
   "cell_type": "markdown",
   "id": "30d97ec7-b543-42ad-bb23-b2ed1f37a705",
   "metadata": {},
   "source": [
    "https://data.world/collery/post-office-data/workspace/file?filename=USPO+Change+of+Address+data+Y2022.csv\n",
    "https://data.world/len/us-first-names-database\n",
    "\n",
    "https://www.kaggle.com/datasets/ahmedshahriarsakib/list-of-real-usa-addresses\n",
    "https://www.kaggle.com/datasets/datagov/usa-names\n",
    "\n",
    "https://data.world/adamhelsinger/directory-of-representatives\n",
    "https://data.world/state-of-connecticut/ikyf-f2iu"
   ]
  },
  {
   "cell_type": "code",
   "execution_count": 1,
   "id": "78129f7c-1798-4c14-a829-2fa6534c2e86",
   "metadata": {},
   "outputs": [],
   "source": [
    "import pandas as pd\n",
    "# import modin.pandas as pd\n",
    "import ray"
   ]
  },
  {
   "cell_type": "code",
   "execution_count": null,
   "id": "afab62b6-5910-4451-842c-0b62746ce2a5",
   "metadata": {},
   "outputs": [],
   "source": [
    "import time\n",
    "\n",
    "ray.init()"
   ]
  },
  {
   "cell_type": "code",
   "execution_count": 2,
   "id": "69803fa1-cf40-448c-aa05-3386ae881cc9",
   "metadata": {},
   "outputs": [],
   "source": [
    "# import pandas as pd\n",
    "import numpy as np\n",
    "from sklearn.metrics import accuracy_score\n",
    "import torch\n",
    "from transformers import BertTokenizerFast, BertConfig, BertForTokenClassification"
   ]
  },
  {
   "cell_type": "code",
   "execution_count": 3,
   "id": "e1098025-6ab9-492f-991e-4e4ffc487e6c",
   "metadata": {},
   "outputs": [
    {
     "name": "stdout",
     "output_type": "stream",
     "text": [
      "cuda\n"
     ]
    }
   ],
   "source": [
    "from torch import cuda\n",
    "device = 'cuda' if cuda.is_available() else 'cpu'\n",
    "print(device)"
   ]
  },
  {
   "cell_type": "code",
   "execution_count": 4,
   "id": "f9b7e109-2d42-477f-84f7-b519236b0419",
   "metadata": {},
   "outputs": [
    {
     "data": {
      "text/html": [
       "<div>\n",
       "<style scoped>\n",
       "    .dataframe tbody tr th:only-of-type {\n",
       "        vertical-align: middle;\n",
       "    }\n",
       "\n",
       "    .dataframe tbody tr th {\n",
       "        vertical-align: top;\n",
       "    }\n",
       "\n",
       "    .dataframe thead th {\n",
       "        text-align: right;\n",
       "    }\n",
       "</style>\n",
       "<table border=\"1\" class=\"dataframe\">\n",
       "  <thead>\n",
       "    <tr style=\"text-align: right;\">\n",
       "      <th></th>\n",
       "      <th>name</th>\n",
       "      <th>rank</th>\n",
       "      <th>count</th>\n",
       "      <th>prop100k</th>\n",
       "      <th>cum_prop100k</th>\n",
       "      <th>pctwhite</th>\n",
       "      <th>pctblack</th>\n",
       "      <th>pctapi</th>\n",
       "      <th>pctaian</th>\n",
       "      <th>pct2prace</th>\n",
       "      <th>pcthispanic</th>\n",
       "    </tr>\n",
       "  </thead>\n",
       "  <tbody>\n",
       "    <tr>\n",
       "      <th>0</th>\n",
       "      <td>SMITH</td>\n",
       "      <td>1</td>\n",
       "      <td>2376206</td>\n",
       "      <td>880.85</td>\n",
       "      <td>880.85</td>\n",
       "      <td>73.35</td>\n",
       "      <td>22.22</td>\n",
       "      <td>0.40</td>\n",
       "      <td>0.85</td>\n",
       "      <td>1.63</td>\n",
       "      <td>1.56</td>\n",
       "    </tr>\n",
       "    <tr>\n",
       "      <th>1</th>\n",
       "      <td>JOHNSON</td>\n",
       "      <td>2</td>\n",
       "      <td>1857160</td>\n",
       "      <td>688.44</td>\n",
       "      <td>1569.30</td>\n",
       "      <td>61.55</td>\n",
       "      <td>33.80</td>\n",
       "      <td>0.42</td>\n",
       "      <td>0.91</td>\n",
       "      <td>1.82</td>\n",
       "      <td>1.50</td>\n",
       "    </tr>\n",
       "    <tr>\n",
       "      <th>2</th>\n",
       "      <td>WILLIAMS</td>\n",
       "      <td>3</td>\n",
       "      <td>1534042</td>\n",
       "      <td>568.66</td>\n",
       "      <td>2137.96</td>\n",
       "      <td>48.52</td>\n",
       "      <td>46.72</td>\n",
       "      <td>0.37</td>\n",
       "      <td>0.78</td>\n",
       "      <td>2.01</td>\n",
       "      <td>1.60</td>\n",
       "    </tr>\n",
       "    <tr>\n",
       "      <th>3</th>\n",
       "      <td>BROWN</td>\n",
       "      <td>4</td>\n",
       "      <td>1380145</td>\n",
       "      <td>511.62</td>\n",
       "      <td>2649.58</td>\n",
       "      <td>60.71</td>\n",
       "      <td>34.54</td>\n",
       "      <td>0.41</td>\n",
       "      <td>0.83</td>\n",
       "      <td>1.86</td>\n",
       "      <td>1.64</td>\n",
       "    </tr>\n",
       "    <tr>\n",
       "      <th>4</th>\n",
       "      <td>JONES</td>\n",
       "      <td>5</td>\n",
       "      <td>1362755</td>\n",
       "      <td>505.17</td>\n",
       "      <td>3154.75</td>\n",
       "      <td>57.69</td>\n",
       "      <td>37.73</td>\n",
       "      <td>0.35</td>\n",
       "      <td>0.94</td>\n",
       "      <td>1.85</td>\n",
       "      <td>1.44</td>\n",
       "    </tr>\n",
       "  </tbody>\n",
       "</table>\n",
       "</div>"
      ],
      "text/plain": [
       "       name  rank    count  prop100k  cum_prop100k pctwhite pctblack pctapi  \\\n",
       "0     SMITH     1  2376206    880.85        880.85    73.35    22.22   0.40   \n",
       "1   JOHNSON     2  1857160    688.44       1569.30    61.55    33.80   0.42   \n",
       "2  WILLIAMS     3  1534042    568.66       2137.96    48.52    46.72   0.37   \n",
       "3     BROWN     4  1380145    511.62       2649.58    60.71    34.54   0.41   \n",
       "4     JONES     5  1362755    505.17       3154.75    57.69    37.73   0.35   \n",
       "\n",
       "  pctaian pct2prace pcthispanic  \n",
       "0    0.85      1.63        1.56  \n",
       "1    0.91      1.82        1.50  \n",
       "2    0.78      2.01        1.60  \n",
       "3    0.83      1.86        1.64  \n",
       "4    0.94      1.85        1.44  "
      ]
     },
     "execution_count": 4,
     "metadata": {},
     "output_type": "execute_result"
    }
   ],
   "source": [
    "# Read the CSV file\n",
    "surnames = pd.read_csv(\"data/Common_Surnames_Census_2000.csv\")\n",
    "\n",
    "# View the first 5 rows\n",
    "surnames.head()"
   ]
  },
  {
   "cell_type": "code",
   "execution_count": null,
   "id": "2da9f4ac-4f2e-4c55-b15f-6a90eac3abca",
   "metadata": {},
   "outputs": [],
   "source": [
    "surnames = surnames.drop(['rank', 'count', 'prop100k', 'cum_prop100k', 'pctwhite', 'pctblack', 'pctapi', 'pctaian', 'pct2prace', 'pcthispanic'], axis=1)"
   ]
  },
  {
   "cell_type": "code",
   "execution_count": null,
   "id": "0dd44dd2-8dfb-4ff7-9b3f-66f9b5e94b63",
   "metadata": {},
   "outputs": [],
   "source": [
    "surnames.shape"
   ]
  },
  {
   "cell_type": "code",
   "execution_count": null,
   "id": "886a2a0a-275a-4e30-8ac7-33fc00749e38",
   "metadata": {},
   "outputs": [],
   "source": [
    "surnames.head()"
   ]
  },
  {
   "cell_type": "code",
   "execution_count": null,
   "id": "a0a5f35c-da9c-4f4f-ac78-720e22de5a62",
   "metadata": {},
   "outputs": [],
   "source": [
    "surnames = surnames.drop_duplicates(subset=['name'])"
   ]
  },
  {
   "cell_type": "code",
   "execution_count": null,
   "id": "fc17ea01-55b1-4691-b190-18624d37a723",
   "metadata": {},
   "outputs": [],
   "source": [
    "surnames = surnames.rename(columns={\"name\": \"lastname\"})"
   ]
  },
  {
   "cell_type": "code",
   "execution_count": null,
   "id": "27d33256-5efc-432b-a1ce-0aabb1ddeb4b",
   "metadata": {},
   "outputs": [],
   "source": [
    "# Read the CSV file\n",
    "firstnameandgender = pd.read_csv(\"data/SSA_Names_DB.csv\")\n",
    "\n",
    "# View the first 5 rows\n",
    "firstnameandgender.head()"
   ]
  },
  {
   "cell_type": "code",
   "execution_count": null,
   "id": "8159bfb5-cc9d-42f4-85b0-ac99273cf712",
   "metadata": {},
   "outputs": [],
   "source": [
    "firstnameandgender = firstnameandgender.drop(['Frequency', 'Include?',], axis=1)"
   ]
  },
  {
   "cell_type": "code",
   "execution_count": null,
   "id": "acaf5a14-2548-4069-a815-d1549314a26f",
   "metadata": {},
   "outputs": [],
   "source": [
    "firstnameandgender.shape"
   ]
  },
  {
   "cell_type": "code",
   "execution_count": null,
   "id": "fcd5a5ce-199e-4f9a-9c7f-ec9e83fa4600",
   "metadata": {},
   "outputs": [],
   "source": [
    "firstnameandgender = firstnameandgender.drop_duplicates(subset=['Name'])"
   ]
  },
  {
   "cell_type": "code",
   "execution_count": null,
   "id": "49e785ce-3e8d-414d-a2e2-f37f765c9abe",
   "metadata": {},
   "outputs": [],
   "source": [
    "firstnameandgender.shape"
   ]
  },
  {
   "cell_type": "code",
   "execution_count": null,
   "id": "eb5a0883-02cd-4871-96eb-032f6ceb937a",
   "metadata": {},
   "outputs": [],
   "source": [
    "firstnameandgender = firstnameandgender.rename(columns={\"Name\": \"firstname\", \"Gender\": \"gender\"})"
   ]
  },
  {
   "cell_type": "code",
   "execution_count": null,
   "id": "d5ebe9b8-9d14-4b56-931c-7979c31c326d",
   "metadata": {},
   "outputs": [],
   "source": [
    "firstnameandgender.shape"
   ]
  },
  {
   "cell_type": "code",
   "execution_count": null,
   "id": "8e77a510-3d63-4a2b-bd61-5e52aa22137b",
   "metadata": {},
   "outputs": [],
   "source": [
    "firstnameandgender.head()"
   ]
  },
  {
   "cell_type": "code",
   "execution_count": null,
   "id": "aa0b115b-8afe-4b03-b933-13f4306aac25",
   "metadata": {},
   "outputs": [],
   "source": [
    "# Read the CSV file\n",
    "address = pd.read_csv(\"data/USPO Change of Address data Y2022.csv\")\n",
    "\n",
    "# View the first 5 rows\n",
    "address.head()"
   ]
  },
  {
   "cell_type": "code",
   "execution_count": null,
   "id": "ead6e3d3-859c-4223-b7b5-705c43f71c31",
   "metadata": {},
   "outputs": [],
   "source": [
    "address = address.drop(['YYYYMM', 'TOTAL FROM ZIP',\"TOTAL BUSINESS\", \"TOTAL FAMILY\", \"TOTAL INDIVIDUAL\", \"TOTAL PERM\", \"TOTAL TEMP\"], axis=1)"
   ]
  },
  {
   "cell_type": "code",
   "execution_count": null,
   "id": "bb92f184-a6f6-4f7f-a4fa-0f3861f293f7",
   "metadata": {},
   "outputs": [],
   "source": [
    "address = address.drop(['TOTAL TO ZIP', 'TOTAL BUSINESS.1',\"TOTAL FAMILY.1\", \"TOTAL INDIVIDUAL.1\", \"TOTAL PERM.1\", \"TOTAL TEMP.1\"], axis=1)"
   ]
  },
  {
   "cell_type": "code",
   "execution_count": null,
   "id": "ef7942ad-e5e4-4b05-b925-5d4078ac0a8d",
   "metadata": {},
   "outputs": [],
   "source": [
    "address.head()"
   ]
  },
  {
   "cell_type": "code",
   "execution_count": null,
   "id": "5bca2002-5fb2-468c-b87e-2173d819a77e",
   "metadata": {},
   "outputs": [],
   "source": [
    "address['ZIPCODE'] = address['ZIPCODE'].apply(lambda x: x.replace('=', '').replace('\"', ''))\n"
   ]
  },
  {
   "cell_type": "code",
   "execution_count": null,
   "id": "8bfbe2fb-bd7e-42bb-b055-4889581aa515",
   "metadata": {},
   "outputs": [],
   "source": [
    "address.head()"
   ]
  },
  {
   "cell_type": "code",
   "execution_count": null,
   "id": "1c996639-3049-4e52-931a-c4e0838e538b",
   "metadata": {},
   "outputs": [],
   "source": [
    "address = address.rename(columns={\"ZIPCODE\": \"zipcode\", \"CITY\": \"city\", \"STATE\": \"state\"})"
   ]
  },
  {
   "cell_type": "code",
   "execution_count": null,
   "id": "3167f30b-d9df-4c63-be4a-fd60321b6d2e",
   "metadata": {},
   "outputs": [],
   "source": [
    "address.shape"
   ]
  },
  {
   "cell_type": "code",
   "execution_count": null,
   "id": "cda1b374-9dae-4794-a4d5-5f4a496be922",
   "metadata": {},
   "outputs": [],
   "source": [
    "lst=address.city.unique() "
   ]
  },
  {
   "cell_type": "code",
   "execution_count": null,
   "id": "c58b78b9-f1a3-4ade-bcd6-d1729c7f3724",
   "metadata": {},
   "outputs": [],
   "source": [
    "len(lst)"
   ]
  },
  {
   "cell_type": "code",
   "execution_count": null,
   "id": "91e87bb7-9714-4baa-b02f-8fb93bceb96c",
   "metadata": {},
   "outputs": [],
   "source": [
    "# shuffle the data\n",
    "address = address.sample(frac = 1)\n",
    "firstnameandgender = firstnameandgender.sample(frac = 1)\n",
    "surnames = surnames.sample(frac = 1)"
   ]
  },
  {
   "cell_type": "code",
   "execution_count": null,
   "id": "7c98fd2a-c4c0-4675-b1f0-8d9d13ec4878",
   "metadata": {},
   "outputs": [],
   "source": [
    "address.reset_index(inplace = True,  drop=True)\n",
    "firstnameandgender.reset_index(inplace = True,  drop=True)\n",
    "surnames.reset_index(inplace = True,  drop=True)\n"
   ]
  },
  {
   "cell_type": "code",
   "execution_count": null,
   "id": "299dbf96-b78b-48b2-8ba1-a079e4af840c",
   "metadata": {},
   "outputs": [],
   "source": [
    "surnames=surnames.iloc[:30460]"
   ]
  },
  {
   "cell_type": "code",
   "execution_count": null,
   "id": "f48e0b7f-5fd3-4e25-a044-02e9e5591c48",
   "metadata": {},
   "outputs": [],
   "source": [
    "firstnameandgender=firstnameandgender.iloc[:30460]"
   ]
  },
  {
   "cell_type": "code",
   "execution_count": null,
   "id": "952d6951-e282-4b9c-9c05-9b7f07d7c250",
   "metadata": {},
   "outputs": [],
   "source": [
    "address=address.iloc[:30460]"
   ]
  },
  {
   "cell_type": "code",
   "execution_count": null,
   "id": "68337159-c67d-4502-ace3-75bdaa5f3421",
   "metadata": {},
   "outputs": [],
   "source": [
    "address.shape"
   ]
  },
  {
   "cell_type": "code",
   "execution_count": null,
   "id": "a833fa1e-2cfc-4e95-bae0-69e2d54b16af",
   "metadata": {},
   "outputs": [],
   "source": [
    "firstnameandgender['firstname'] = firstnameandgender['firstname'].str.lower()"
   ]
  },
  {
   "cell_type": "code",
   "execution_count": null,
   "id": "c9ba3246-0d94-47a6-991f-cb69b1d14310",
   "metadata": {},
   "outputs": [],
   "source": [
    "firstnameandgender['gender'] = firstnameandgender['gender'].str.lower()"
   ]
  },
  {
   "cell_type": "code",
   "execution_count": null,
   "id": "b0452c98-923a-40c5-ba3c-ac459e7f5234",
   "metadata": {},
   "outputs": [],
   "source": [
    "surnames['lastname'] = surnames['lastname'].str.lower()"
   ]
  },
  {
   "cell_type": "code",
   "execution_count": null,
   "id": "81e6544b-7a7b-450b-860b-4abbdbb2f6a4",
   "metadata": {},
   "outputs": [],
   "source": [
    "firstnameandgender.head()"
   ]
  },
  {
   "cell_type": "code",
   "execution_count": null,
   "id": "6973b38e-4834-483b-9000-80deb4ebeb2d",
   "metadata": {},
   "outputs": [],
   "source": [
    "from uuid import uuid4\n",
    "firstnameandgender['uuid'] = firstnameandgender.index.to_series().map(lambda x: uuid4())\n"
   ]
  },
  {
   "cell_type": "code",
   "execution_count": null,
   "id": "0e105265-b109-476d-b9da-8516c8bfc00b",
   "metadata": {},
   "outputs": [],
   "source": [
    "surnames['uuid'] = surnames.index.to_series().map(lambda x: uuid4())"
   ]
  },
  {
   "cell_type": "code",
   "execution_count": null,
   "id": "5a45fe7a-3a30-4cb6-889a-b2bb7fcc0998",
   "metadata": {},
   "outputs": [],
   "source": [
    "address['uuid'] = address.index.to_series().map(lambda x: uuid4())"
   ]
  },
  {
   "cell_type": "code",
   "execution_count": null,
   "id": "87fc0b69-714b-44f5-bf94-189bf1322c89",
   "metadata": {},
   "outputs": [],
   "source": [
    "firstnameandgender.loc[:,['uuid','firstname','gender']]\n"
   ]
  },
  {
   "cell_type": "code",
   "execution_count": null,
   "id": "567b84aa-0c5c-432d-a092-0a6a3656a834",
   "metadata": {},
   "outputs": [],
   "source": [
    "surnames.loc[:,['uuid','lastname']]"
   ]
  },
  {
   "cell_type": "code",
   "execution_count": null,
   "id": "3e723724-ff43-4906-8c9c-83235b7d0108",
   "metadata": {},
   "outputs": [],
   "source": [
    "address.loc[:,['uuid','city', 'state','zipcode']]"
   ]
  },
  {
   "cell_type": "code",
   "execution_count": null,
   "id": "21d4c704-7980-4c56-9414-c3898ac0aead",
   "metadata": {},
   "outputs": [],
   "source": [
    "address['city'] = address['city'].str.lower()\n",
    "address['state'] = address['state'].str.lower()"
   ]
  },
  {
   "cell_type": "code",
   "execution_count": null,
   "id": "a77ac7bf-eb81-46ac-a335-0aff06b2e8d7",
   "metadata": {},
   "outputs": [],
   "source": [
    "horizontal_concat = pd.concat([firstnameandgender, surnames, address], axis=1)\n"
   ]
  },
  {
   "cell_type": "code",
   "execution_count": null,
   "id": "36480ccd-ead8-4b8a-84de-c254996b4559",
   "metadata": {},
   "outputs": [],
   "source": [
    "horizontal_concat.head()"
   ]
  },
  {
   "cell_type": "code",
   "execution_count": null,
   "id": "4fe15b34-1772-47df-9162-16ec2754aa89",
   "metadata": {},
   "outputs": [],
   "source": [
    "horizontal_concat.reset_index(inplace=True, drop=True) \n"
   ]
  },
  {
   "cell_type": "code",
   "execution_count": null,
   "id": "9055e3a3-dbee-4179-84a3-113e0d81f85e",
   "metadata": {},
   "outputs": [],
   "source": [
    "horizontal_concat.shape"
   ]
  },
  {
   "cell_type": "code",
   "execution_count": null,
   "id": "a9157be2-e10c-40aa-bf58-20cb2e75d732",
   "metadata": {},
   "outputs": [],
   "source": [
    "horizontal_concat.to_csv(\"./data/horizontal_data.csv\", index=False)"
   ]
  },
  {
   "cell_type": "code",
   "execution_count": null,
   "id": "c168906d-c8c8-41bb-b706-8453561d2bc2",
   "metadata": {},
   "outputs": [],
   "source": [
    "horizontal_concat['firstname'] = horizontal_concat['firstname'].str.lower()"
   ]
  },
  {
   "cell_type": "code",
   "execution_count": null,
   "id": "3a0d95a7-dada-4d6e-8fc0-778d3d2bc852",
   "metadata": {},
   "outputs": [],
   "source": [
    "horizontal_concat['gender'] = horizontal_concat['gender'].str.lower()"
   ]
  },
  {
   "cell_type": "code",
   "execution_count": null,
   "id": "6e496e8c-b725-4c08-bdec-790ea872548f",
   "metadata": {},
   "outputs": [],
   "source": [
    "horizontal_concat['lastname'] = horizontal_concat['lastname'].str.lower()"
   ]
  },
  {
   "cell_type": "code",
   "execution_count": null,
   "id": "015a1a7c-4e1e-42e9-8c3a-0a55cf52596e",
   "metadata": {},
   "outputs": [],
   "source": [
    "horizontal_concat['city'] = horizontal_concat['city'].str.lower()"
   ]
  },
  {
   "cell_type": "code",
   "execution_count": null,
   "id": "2a79fcd7-8373-4b6d-9952-f0cf6c1beeb3",
   "metadata": {},
   "outputs": [],
   "source": [
    "horizontal_concat['state'] = horizontal_concat['state'].str.lower()"
   ]
  },
  {
   "cell_type": "code",
   "execution_count": null,
   "id": "841b4df5-00e0-4232-bf47-2c67c1b9406f",
   "metadata": {},
   "outputs": [],
   "source": [
    "horizontal_concat"
   ]
  },
  {
   "cell_type": "code",
   "execution_count": null,
   "id": "924698c9-f788-4c7a-a2d8-c829d059131d",
   "metadata": {},
   "outputs": [],
   "source": [
    "#Feature Engineering\n",
    "# Melt the DataFrame to convert columns to rows\n",
    "melted_data = pd.melt(horizontal_concat, var_name='Entity', value_name='Value')\n",
    " \n",
    "# 'Entity' column now contains the labels for the entities (former column names)\n",
    "# 'Value' column contains the corresponding values\n",
    " \n",
    "print(melted_data)"
   ]
  },
  {
   "cell_type": "code",
   "execution_count": null,
   "id": "b0d2981c-a8da-4c93-9622-094cc0b5d06f",
   "metadata": {},
   "outputs": [],
   "source": [
    "labels=[\n",
    "                   \"O\",\n",
    "                    \"firstname\",\n",
    "                    \"lastname\",\n",
    "                    \"city\",\n",
    "                    \"state\",\n",
    "                    \"zipcode\",\n",
    "                ]"
   ]
  },
  {
   "cell_type": "code",
   "execution_count": null,
   "id": "8c5274e8-10f9-4c74-92af-88824246262d",
   "metadata": {},
   "outputs": [],
   "source": [
    "# Define the labels for each column\n",
    "labels = ['firstname', 'gender', 'lastname', 'zipcode', 'city', 'state']\n"
   ]
  },
  {
   "cell_type": "code",
   "execution_count": null,
   "id": "2dca6b89-60e3-4b18-ac3b-7f50a92001c3",
   "metadata": {},
   "outputs": [],
   "source": [
    "from huggingface_hub import notebook_login\n",
    "\n",
    "notebook_login()"
   ]
  },
  {
   "cell_type": "code",
   "execution_count": null,
   "id": "831dc74b-b2a1-4038-8f92-2c232c82fee0",
   "metadata": {},
   "outputs": [],
   "source": [
    "from datasets import load_dataset\n"
   ]
  },
  {
   "cell_type": "code",
   "execution_count": null,
   "id": "b701ff81-7ed4-4793-9f7e-8da036b83ada",
   "metadata": {},
   "outputs": [],
   "source": [
    "label_list = wnut[\"train\"].features[f\"ner_tags\"].feature.names\n"
   ]
  },
  {
   "cell_type": "code",
   "execution_count": null,
   "id": "837f6df3-1fa6-4b00-ade7-28feb0412c77",
   "metadata": {},
   "outputs": [],
   "source": [
    "label_list"
   ]
  },
  {
   "cell_type": "code",
   "execution_count": null,
   "id": "badc65c9-1238-495c-ba01-0875d5a41ba6",
   "metadata": {},
   "outputs": [],
   "source": [
    "wnut[\"train\"]"
   ]
  },
  {
   "cell_type": "code",
   "execution_count": null,
   "id": "d350bbab-239f-4366-a1cf-9fd20fed16f3",
   "metadata": {},
   "outputs": [],
   "source": [
    "labels = ['firstname', 'lastname', 'zipcode', 'city', 'state']\n"
   ]
  },
  {
   "cell_type": "code",
   "execution_count": null,
   "id": "fc76cc77-3652-4066-8508-4f1413c10be3",
   "metadata": {},
   "outputs": [],
   "source": [
    "len(firstnameandgender)"
   ]
  },
  {
   "cell_type": "code",
   "execution_count": null,
   "id": "737a7558-41e1-489d-8366-3d3875e8a605",
   "metadata": {},
   "outputs": [],
   "source": [
    "from sklearn.model_selection import train_test_split\n"
   ]
  },
  {
   "cell_type": "code",
   "execution_count": null,
   "id": "20b9d396-d4c7-4350-863c-1d0741f3e389",
   "metadata": {},
   "outputs": [],
   "source": [
    "\n",
    "firstnametrain, firstnametest = train_test_split(firstnameandgender.loc[:,['uuid','firstname']], test_size=0.2)\n",
    "\n",
    "\n",
    "surnametrain, surnametest = train_test_split(surnames.loc[:,['uuid','lastname']], test_size=0.2)\n",
    "\n",
    "\n",
    "addresscitytrain, addresscitytest = train_test_split(address.loc[:,['uuid','city']], test_size=0.2)\n",
    "\n",
    "addressstatetrain, addressstatetest = train_test_split(address.loc[:,['uuid','state']], test_size=0.2)\n",
    "\n",
    "addressziptrain, addressziptest = train_test_split(address.loc[:,['uuid','zipcode']], test_size=0.2)"
   ]
  },
  {
   "cell_type": "code",
   "execution_count": null,
   "id": "9ecd83cc-15bd-448b-9599-d3be8fe0b64f",
   "metadata": {},
   "outputs": [],
   "source": [
    "len(firstnametrain)"
   ]
  },
  {
   "cell_type": "code",
   "execution_count": null,
   "id": "17e2e50f-0740-4eda-a3cf-47f47c838e94",
   "metadata": {},
   "outputs": [],
   "source": [
    "firstnametrain.head()"
   ]
  },
  {
   "cell_type": "code",
   "execution_count": null,
   "id": "b3f36ce6-91e8-4012-898d-5e633d2d7035",
   "metadata": {},
   "outputs": [],
   "source": [
    "column_names=[\"id\",\"token\", \"ner_tag\"]\n",
    "dat = []\n",
    "traindata=pd.DataFrame(dat, columns=column_names)\n",
    "for index, row in firstnametrain.iterrows():\n",
    "    traindata.loc[len(traindata)]=[ str(row['uuid']),row['firstname'], \"firstname\" ]\n"
   ]
  },
  {
   "cell_type": "code",
   "execution_count": null,
   "id": "f1b2a5bd-cee2-481e-b9da-0dcd67b9ea02",
   "metadata": {},
   "outputs": [],
   "source": [
    "for index, row in surnametrain.iterrows():\n",
    "    traindata.loc[len(traindata)]=[ str(row['uuid']),row['lastname'], \"lastname\"]\n"
   ]
  },
  {
   "cell_type": "code",
   "execution_count": null,
   "id": "b51124a5-b9e9-4e34-a00b-4456d77be95c",
   "metadata": {},
   "outputs": [],
   "source": [
    "for index, row in addresscitytrain.iterrows():\n",
    "    traindata.loc[len(traindata)]=[ str(row['uuid']),row['city'], \"city\"]"
   ]
  },
  {
   "cell_type": "code",
   "execution_count": null,
   "id": "04f0aba0-830c-42f1-82cf-58224a3d99fb",
   "metadata": {},
   "outputs": [],
   "source": [
    "\n",
    "for index, row in addressstatetrain.iterrows():\n",
    "    traindata.loc[len(traindata)]=[ str(row['uuid']),row['state'], \"state\"]\n"
   ]
  },
  {
   "cell_type": "code",
   "execution_count": null,
   "id": "a8ebab15-b6d6-4837-85ef-283117c8e599",
   "metadata": {},
   "outputs": [],
   "source": [
    "traindata.columns"
   ]
  },
  {
   "cell_type": "code",
   "execution_count": null,
   "id": "97e860bd-4e80-4937-a715-a5b32a254cd4",
   "metadata": {},
   "outputs": [],
   "source": [
    "for index, row in addressziptrain.iterrows():\n",
    "    traindata.loc[len(traindata)]=[ str(row['uuid']),row['zipcode'], \"zipcode\"]"
   ]
  },
  {
   "cell_type": "code",
   "execution_count": null,
   "id": "acdba4b3-208d-4eec-aa8c-96b1d2b5bafb",
   "metadata": {},
   "outputs": [],
   "source": [
    "test_column_names=[\"id\",\"token\", \"ner_tag\"]\n",
    "testdat = []\n",
    "testdata=pd.DataFrame(testdat, columns=test_column_names)"
   ]
  },
  {
   "cell_type": "code",
   "execution_count": null,
   "id": "05b5d9c2-4eb6-4401-9b33-bcb08a57f789",
   "metadata": {},
   "outputs": [],
   "source": [
    "for index, row in firstnametest.iterrows():\n",
    "    testdata.loc[len(testdata)]=[str(row['uuid']),row['firstname'], \"firstname\"]"
   ]
  },
  {
   "cell_type": "code",
   "execution_count": null,
   "id": "71125f6b-ec8c-4268-9e80-7c149f085b41",
   "metadata": {},
   "outputs": [],
   "source": [
    "for index, row in surnametest.iterrows():\n",
    "    testdata.loc[len(testdata)]=[ str(row['uuid']),row['lastname'], \"lastname\"]"
   ]
  },
  {
   "cell_type": "code",
   "execution_count": null,
   "id": "5f26f46c-2170-40d3-9a94-0767c40cda3e",
   "metadata": {},
   "outputs": [],
   "source": [
    "for index, row in addresscitytest.iterrows():\n",
    "    testdata.loc[len(testdata)]=[ str(row['uuid']),row['city'], \"city\"]"
   ]
  },
  {
   "cell_type": "code",
   "execution_count": null,
   "id": "5f8fe3c7-4471-4301-b466-6007bc8e6d3f",
   "metadata": {},
   "outputs": [],
   "source": [
    "for index, row in addressstatetest.iterrows():\n",
    "    testdata.loc[len(testdata)]=[ str(row['uuid']),row['state'], \"state\"]"
   ]
  },
  {
   "cell_type": "code",
   "execution_count": null,
   "id": "f671f6da-8cc1-4bed-a93f-82093984de91",
   "metadata": {},
   "outputs": [],
   "source": [
    "\n",
    "for index, row in addressziptest.iterrows():\n",
    "    testdata.loc[len(testdata)]=[ str(row['uuid']),row['zipcode'], \"zipcode\"]"
   ]
  },
  {
   "cell_type": "code",
   "execution_count": null,
   "id": "303ca771-5c20-4c86-87d1-516c62104f64",
   "metadata": {},
   "outputs": [],
   "source": [
    "testdata.columns"
   ]
  },
  {
   "cell_type": "code",
   "execution_count": null,
   "id": "5bb2f669-630f-43bd-b54d-ebed063385e4",
   "metadata": {},
   "outputs": [],
   "source": [
    "testdata.head()\n"
   ]
  },
  {
   "cell_type": "code",
   "execution_count": null,
   "id": "6ffe3c0b-ebb6-42bb-990f-d936548657a6",
   "metadata": {},
   "outputs": [],
   "source": [
    "from datasets import Dataset, Value, ClassLabel, Features\n",
    "import pandas as pd\n",
    "features = Features({\"id\": Value(\"string\"), \"token\": Value(\"string\"), \"ner_tag\": ClassLabel(num_classes=5, names=[\"firstname\",\"lastname\",\"city\",\"state\",\"zipcode\"])})\n",
    "\n",
    "train_dataset = Dataset.from_dict(traindata, features)\n",
    "test_dataset = Dataset.from_dict(testdata, features)"
   ]
  },
  {
   "cell_type": "code",
   "execution_count": null,
   "id": "03021fee-4a59-4fc3-a4b4-c88b49efa447",
   "metadata": {},
   "outputs": [],
   "source": [
    "from datasets import DatasetDict"
   ]
  },
  {
   "cell_type": "code",
   "execution_count": null,
   "id": "c84f2ff4-cb2f-404a-86e5-20bf57487119",
   "metadata": {},
   "outputs": [],
   "source": [
    "train_dataset"
   ]
  },
  {
   "cell_type": "code",
   "execution_count": null,
   "id": "c2b5c700-e44f-4509-bbb6-0515ec179bb4",
   "metadata": {},
   "outputs": [],
   "source": [
    "test_dataset"
   ]
  },
  {
   "cell_type": "code",
   "execution_count": null,
   "id": "815b97ea-6bf0-49be-8ea6-e6ed27395fc2",
   "metadata": {},
   "outputs": [],
   "source": [
    "train_dataset.save_to_disk(\"./data/traindatasethg_name\")"
   ]
  },
  {
   "cell_type": "code",
   "execution_count": null,
   "id": "04f0854c-1528-434f-8aef-bc4944e15307",
   "metadata": {},
   "outputs": [],
   "source": [
    "test_dataset.save_to_disk(\"./data/testdatasethg_name\")"
   ]
  },
  {
   "cell_type": "code",
   "execution_count": 5,
   "id": "db779320-e310-455c-a48a-0b675a90cabc",
   "metadata": {},
   "outputs": [],
   "source": [
    "from datasets import concatenate_datasets, Dataset, load_from_disk, DatasetDict\n",
    "\n",
    "train_dataset=load_from_disk(\"./data/traindatasethg_name\")\n",
    "test_dataset=load_from_disk(\"./data/testdatasethg_name\")"
   ]
  },
  {
   "cell_type": "code",
   "execution_count": 6,
   "id": "da3104d1-f00c-4e42-8092-d351e0d4e4eb",
   "metadata": {},
   "outputs": [
    {
     "data": {
      "text/plain": [
       "{'id': '78cd9b71-c67f-44d9-acc5-e64c36a8b510', 'token': '08403', 'ner_tag': 4}"
      ]
     },
     "execution_count": 6,
     "metadata": {},
     "output_type": "execute_result"
    }
   ],
   "source": [
    "train_dataset[len(train_dataset)-100]"
   ]
  },
  {
   "cell_type": "code",
   "execution_count": 7,
   "id": "d31cdb98-c117-4042-81d9-bfc8efe1f64f",
   "metadata": {},
   "outputs": [],
   "source": [
    "finalds = DatasetDict({\n",
    "    'train': train_dataset,\n",
    "    'test': test_dataset})"
   ]
  },
  {
   "cell_type": "code",
   "execution_count": 8,
   "id": "6934cd45-9c5f-4a1f-af22-fe8ab3b329e2",
   "metadata": {},
   "outputs": [],
   "source": [
    "label_list = finalds[\"train\"].features[f\"ner_tag\"].names\n"
   ]
  },
  {
   "cell_type": "code",
   "execution_count": 9,
   "id": "c4d29d80-b8a8-4a4e-acc7-dd755d204a67",
   "metadata": {},
   "outputs": [
    {
     "data": {
      "text/plain": [
       "['firstname', 'lastname', 'city', 'state', 'zipcode']"
      ]
     },
     "execution_count": 9,
     "metadata": {},
     "output_type": "execute_result"
    }
   ],
   "source": [
    "label_list"
   ]
  },
  {
   "cell_type": "code",
   "execution_count": 10,
   "id": "0d7adc25-24bb-49b4-86e4-46fe7ebef0a0",
   "metadata": {},
   "outputs": [
    {
     "data": {
      "text/plain": [
       "{'firstname': 0, 'lastname': 1, 'city': 2, 'state': 3, 'zipcode': 4}"
      ]
     },
     "execution_count": 10,
     "metadata": {},
     "output_type": "execute_result"
    }
   ],
   "source": [
    "labels=label_list\n",
    "id2label = {idx:label for idx, label in enumerate(labels)}\n",
    "label2id = {label:idx for idx, label in enumerate(labels)}\n",
    "label2id"
   ]
  },
  {
   "cell_type": "code",
   "execution_count": 11,
   "id": "96cc3593-3133-420f-9df5-b67124963787",
   "metadata": {},
   "outputs": [],
   "source": [
    "from transformers import AutoTokenizer\n",
    "\n",
    "tokenizer = AutoTokenizer.from_pretrained(\"distilbert-base-uncased\")"
   ]
  },
  {
   "cell_type": "code",
   "execution_count": 12,
   "id": "77b69a3f-45c4-4a3a-beaf-e5b3f99532f1",
   "metadata": {},
   "outputs": [
    {
     "data": {
      "text/plain": [
       "['[CLS]', 'maud', '##ie', '[SEP]']"
      ]
     },
     "execution_count": 12,
     "metadata": {},
     "output_type": "execute_result"
    }
   ],
   "source": [
    "example = finalds[\"train\"][0]\n",
    "tokenized_input = tokenizer(example[\"token\"], is_split_into_words=False)\n",
    "tokens = tokenizer.convert_ids_to_tokens(tokenized_input[\"input_ids\"])\n",
    "tokens"
   ]
  },
  {
   "cell_type": "code",
   "execution_count": 13,
   "id": "4e5af224-0a33-4950-aebf-3acf5a53c301",
   "metadata": {},
   "outputs": [
    {
     "data": {
      "text/plain": [
       "{'id': '25c1f7b9-f808-488e-86d6-3edd52aa876a', 'token': 'calah', 'ner_tag': 0}"
      ]
     },
     "execution_count": 13,
     "metadata": {},
     "output_type": "execute_result"
    }
   ],
   "source": [
    " finalds[\"test\"][0]"
   ]
  },
  {
   "cell_type": "code",
   "execution_count": 14,
   "id": "d006808d-f1f5-4300-aa82-2e3278333273",
   "metadata": {},
   "outputs": [],
   "source": [
    "def tokenize_and_align_labels(examples):\n",
    "    tokenized_inputs = tokenizer(examples[\"token\"], truncation=True, is_split_into_words=False)\n",
    "    tokenized_inputs[\"labels\"] = examples[f\"ner_tag\"]\n",
    "    return tokenized_inputs"
   ]
  },
  {
   "cell_type": "code",
   "execution_count": 15,
   "id": "f323cf49-cb50-4b73-ae11-a920f767491e",
   "metadata": {},
   "outputs": [],
   "source": [
    "tokenized_input = finalds.map(tokenize_and_align_labels, batched=True)\n"
   ]
  },
  {
   "cell_type": "code",
   "execution_count": 16,
   "id": "f4721de3-55a7-4daf-b566-49c6905cbfae",
   "metadata": {},
   "outputs": [
    {
     "name": "stderr",
     "output_type": "stream",
     "text": [
      "2023-12-04 14:13:19.430112: I tensorflow/core/util/port.cc:111] oneDNN custom operations are on. You may see slightly different numerical results due to floating-point round-off errors from different computation orders. To turn them off, set the environment variable `TF_ENABLE_ONEDNN_OPTS=0`.\n",
      "2023-12-04 14:13:19.478408: E tensorflow/compiler/xla/stream_executor/cuda/cuda_dnn.cc:9342] Unable to register cuDNN factory: Attempting to register factory for plugin cuDNN when one has already been registered\n",
      "2023-12-04 14:13:19.478441: E tensorflow/compiler/xla/stream_executor/cuda/cuda_fft.cc:609] Unable to register cuFFT factory: Attempting to register factory for plugin cuFFT when one has already been registered\n",
      "2023-12-04 14:13:19.478469: E tensorflow/compiler/xla/stream_executor/cuda/cuda_blas.cc:1518] Unable to register cuBLAS factory: Attempting to register factory for plugin cuBLAS when one has already been registered\n",
      "2023-12-04 14:13:19.487822: I tensorflow/core/platform/cpu_feature_guard.cc:182] This TensorFlow binary is optimized to use available CPU instructions in performance-critical operations.\n",
      "To enable the following instructions: AVX2 AVX512F AVX512_VNNI FMA, in other operations, rebuild TensorFlow with the appropriate compiler flags.\n"
     ]
    }
   ],
   "source": [
    "from transformers import DataCollatorWithPadding\n",
    "\n",
    "data_collator = DataCollatorWithPadding(tokenizer=tokenizer, return_tensors=\"tf\")"
   ]
  },
  {
   "cell_type": "code",
   "execution_count": 17,
   "id": "b38d8e81-2ff3-44e1-aeab-8cc5f0245f38",
   "metadata": {},
   "outputs": [],
   "source": [
    "import evaluate\n",
    "\n",
    "seqeval = evaluate.load(\"seqeval\")"
   ]
  },
  {
   "cell_type": "code",
   "execution_count": null,
   "id": "5245193a-6af6-4a72-9130-993eeace0ccf",
   "metadata": {},
   "outputs": [],
   "source": []
  },
  {
   "cell_type": "code",
   "execution_count": null,
   "id": "e3802bbb-032d-4977-b2ea-449a4875b34d",
   "metadata": {},
   "outputs": [],
   "source": [
    "import numpy as np\n",
    "\n",
    "def compute_metrics(p):\n",
    "    predictions, labels, inputs = p.predictions, p.label_ids, p.inputs\n",
    "    predictions = np.argmax(p.predictions, axis=2)\n",
    "\n",
    "    # send only the first token of each word to the evaluation\n",
    "    true_predictions = []\n",
    "    true_labels = []\n",
    "    for prediction, label, tokens in zip(predictions, labels, inputs):\n",
    "        true_predictions.append([])\n",
    "        true_labels.append([])\n",
    "        # print(prediction, label, tokens)\n",
    "        for (p, l, t) in zip(prediction, label, tokens):\n",
    "            # print(l, p, tokenizer.convert_ids_to_tokens(int(t)))\n",
    "            if l != -100 and not tokenizer.convert_ids_to_tokens(int(t)).startswith(PRE_WORD):\n",
    "                # print('append')\n",
    "                true_predictions[-1].append(label_list[p])\n",
    "                true_labels[-1].append(label_list[l])\n",
    "    # print(true_predictions, true_labels)\n",
    "\n",
    "    results = metric.compute(predictions=true_predictions, references=true_labels, zero_division=0)\n",
    "    return {\n",
    "        \"precision\": results[\"overall_precision\"],\n",
    "        \"recall\": results[\"overall_recall\"],\n",
    "        \"f1\": results[\"overall_f1\"],\n",
    "        \"accuracy\": results[\"overall_accuracy\"],\n",
    "    }"
   ]
  },
  {
   "cell_type": "code",
   "execution_count": null,
   "id": "037c48ae-aa86-45c6-9634-a04362dab497",
   "metadata": {},
   "outputs": [],
   "source": [
    "from sklearn.metrics import accuracy_score, precision_score, recall_score, f1_score, confusion_matrix\n"
   ]
  },
  {
   "cell_type": "code",
   "execution_count": null,
   "id": "330aab3c-e098-489e-8a05-3dcc234dc96b",
   "metadata": {},
   "outputs": [],
   "source": [
    "from sklearn.metrics import accuracy_score, precision_score, recall_score, f1_score, confusion_matrix\n",
    "\n",
    "\n",
    "def compute_metrics(p):\n",
    "    preds, labels = p\n",
    "\n",
    "    preds = np.argmax(preds, axis=1)\n",
    "    \n",
    "    accuracy = accuracy_score(labels, preds)\n",
    "    \n",
    "    precission = precission_score(labels, preds, average='weighted')\n",
    "    recall=recall_score(labels, preds, average=\"weighted\")\n",
    "    f1=f1_score(labels, preds, average='weighted')\n",
    "    \n",
    "    \n",
    "    return {\n",
    "        'accuracy':  accuracy,\n",
    "        'precision': precision,\n",
    "        'recall': recall,\n",
    "        'f1': f1\n",
    "    }"
   ]
  },
  {
   "cell_type": "code",
   "execution_count": null,
   "id": "9ab2607e-d323-4798-9b86-1c44ece9a391",
   "metadata": {},
   "outputs": [],
   "source": [
    "def compute_metrics(p):\n",
    "    predictions, labels = p\n",
    "    predictions = np.argmax(predictions, axis=2)\n",
    "\n",
    "    true_predictions = [\n",
    "        # [label_list[p] for (p, l) in zip(prediction, label) if l != -100]\n",
    "        for prediction, label in zip(predictions, labels)\n",
    "    ]\n",
    "    true_labels = [\n",
    "        # [label_list[l] for (p, l) in zip(prediction, label) if l != -100]\n",
    "        for prediction, label in zip(predictions, labels)\n",
    "    ]\n",
    "\n",
    "    results = seqeval.compute(predictions=predictions, references=labels)\n",
    "    return {\n",
    "        \"precision\": results[\"overall_precision\"],\n",
    "        \"recall\": results[\"overall_recall\"],\n",
    "        \"f1\": results[\"overall_f1\"],\n",
    "        \"accuracy\": results[\"overall_accuracy\"],\n",
    "    }"
   ]
  },
  {
   "cell_type": "code",
   "execution_count": null,
   "id": "22cbaa3a-cabe-4715-af22-bb171f204128",
   "metadata": {},
   "outputs": [],
   "source": [
    "import numpy as np\n",
    "\n",
    "def compute_metrics(p):\n",
    "    predictions, labels, inputs = p.predictions, p.label_ids, p.inputs\n",
    "    predictions = np.argmax(p.predictions, axis=2)\n",
    "\n",
    "    # send only the first token of each word to the evaluation\n",
    "    true_predictions = []\n",
    "    true_labels = []\n",
    "    for prediction, label, tokens in zip(predictions, labels, inputs):\n",
    "        true_predictions.append([])\n",
    "        true_labels.append([])\n",
    "        # print(prediction, label, tokens)\n",
    "        for (p, l, t) in zip(prediction, label, tokens):\n",
    "            # print(l, p, tokenizer.convert_ids_to_tokens(int(t)))\n",
    "            if l != -100 and not tokenizer.convert_ids_to_tokens(int(t)).startswith(PRE_WORD):\n",
    "                # print('append')\n",
    "                true_predictions[-1].append(label_list[p])\n",
    "                true_labels[-1].append(label_list[l])\n",
    "    # print(true_predictions, true_labels)\n",
    "\n",
    "    results = metric.compute(predictions=true_predictions, references=true_labels, zero_division=0)\n",
    "    return {\n",
    "        \"precision\": results[\"overall_precision\"],\n",
    "        \"recall\": results[\"overall_recall\"],\n",
    "        \"f1\": results[\"overall_f1\"],\n",
    "        \"accuracy\": results[\"overall_accuracy\"],\n",
    "    }"
   ]
  },
  {
   "cell_type": "code",
   "execution_count": 18,
   "id": "3b2a93e1-5569-4311-bb15-24cdec475373",
   "metadata": {},
   "outputs": [
    {
     "name": "stderr",
     "output_type": "stream",
     "text": [
      "2023-12-04 14:13:35.183880: I tensorflow/core/common_runtime/gpu/gpu_device.cc:1886] Created device /job:localhost/replica:0/task:0/device:GPU:0 with 1060 MB memory:  -> device: 0, name: NVIDIA L4, pci bus id: 0000:00:03.0, compute capability: 8.9\n"
     ]
    }
   ],
   "source": [
    "from transformers import create_optimizer\n",
    "import tensorflow as tf\n",
    "\n",
    "batch_size = 16\n",
    "num_epochs = 5\n",
    "batches_per_epoch = len(tokenized_input[\"train\"]) // batch_size\n",
    "total_train_steps = int(batches_per_epoch * num_epochs)\n",
    "optimizer, schedule = create_optimizer(init_lr=2e-5, num_warmup_steps=0, num_train_steps=total_train_steps)"
   ]
  },
  {
   "cell_type": "code",
   "execution_count": 19,
   "id": "deaae460-1e05-48ab-a515-b0cc0b33243c",
   "metadata": {},
   "outputs": [
    {
     "name": "stderr",
     "output_type": "stream",
     "text": [
      "Some weights of the PyTorch model were not used when initializing the TF 2.0 model TFDistilBertForSequenceClassification: ['vocab_transform.bias', 'vocab_transform.weight', 'vocab_layer_norm.bias', 'vocab_projector.bias', 'vocab_layer_norm.weight']\n",
      "- This IS expected if you are initializing TFDistilBertForSequenceClassification from a PyTorch model trained on another task or with another architecture (e.g. initializing a TFBertForSequenceClassification model from a BertForPreTraining model).\n",
      "- This IS NOT expected if you are initializing TFDistilBertForSequenceClassification from a PyTorch model that you expect to be exactly identical (e.g. initializing a TFBertForSequenceClassification model from a BertForSequenceClassification model).\n",
      "Some weights or buffers of the TF 2.0 model TFDistilBertForSequenceClassification were not initialized from the PyTorch model and are newly initialized: ['pre_classifier.weight', 'pre_classifier.bias', 'classifier.weight', 'classifier.bias']\n",
      "You should probably TRAIN this model on a down-stream task to be able to use it for predictions and inference.\n"
     ]
    }
   ],
   "source": [
    "from transformers import TFAutoModelForSequenceClassification\n",
    "\n",
    "model = TFAutoModelForSequenceClassification.from_pretrained(\n",
    "    \"distilbert-base-uncased\", num_labels=5, id2label=id2label, label2id=label2id\n",
    ")"
   ]
  },
  {
   "cell_type": "code",
   "execution_count": 20,
   "id": "47c874f3-1999-4414-acad-824bcb4cd9b5",
   "metadata": {},
   "outputs": [
    {
     "name": "stderr",
     "output_type": "stream",
     "text": [
      "You're using a DistilBertTokenizerFast tokenizer. Please note that with a fast tokenizer, using the `__call__` method is faster than using a method to encode the text followed by a call to the `pad` method to get a padded encoding.\n"
     ]
    }
   ],
   "source": [
    "tf_train_set = model.prepare_tf_dataset(\n",
    "    tokenized_input[\"train\"],\n",
    "    shuffle=True,\n",
    "    batch_size=16,\n",
    "    collate_fn=data_collator,\n",
    ")\n",
    "\n",
    "tf_validation_set = model.prepare_tf_dataset(\n",
    "    tokenized_input[\"test\"],\n",
    "    shuffle=False,\n",
    "    batch_size=16,\n",
    "    collate_fn=data_collator,\n",
    ")"
   ]
  },
  {
   "cell_type": "code",
   "execution_count": 21,
   "id": "f8336b25-8575-4558-aa5c-2d0eaab40a71",
   "metadata": {},
   "outputs": [],
   "source": [
    "import tensorflow as tf\n",
    "\n",
    "model.compile(optimizer=optimizer, metrics=[compute_metrics]) "
   ]
  },
  {
   "cell_type": "code",
   "execution_count": 22,
   "id": "a80f23f6-be80-4e92-9be2-0887f66f16d3",
   "metadata": {},
   "outputs": [
    {
     "name": "stdout",
     "output_type": "stream",
     "text": [
      "Epoch 1/3\n"
     ]
    },
    {
     "name": "stderr",
     "output_type": "stream",
     "text": [
      "2023-12-04 14:13:54.496505: I tensorflow/compiler/xla/service/service.cc:168] XLA service 0x7f1ee44d3190 initialized for platform CUDA (this does not guarantee that XLA will be used). Devices:\n",
      "2023-12-04 14:13:54.496537: I tensorflow/compiler/xla/service/service.cc:176]   StreamExecutor device (0): NVIDIA L4, Compute Capability 8.9\n",
      "2023-12-04 14:13:54.502952: I tensorflow/compiler/mlir/tensorflow/utils/dump_mlir_util.cc:269] disabling MLIR crash reproducer, set env var `MLIR_CRASH_REPRODUCER_DIRECTORY` to enable.\n",
      "2023-12-04 14:13:54.525239: I tensorflow/compiler/xla/stream_executor/cuda/cuda_dnn.cc:442] Loaded cuDNN version 8904\n",
      "2023-12-04 14:13:54.625148: I ./tensorflow/compiler/jit/device_compiler.h:186] Compiled cluster using XLA!  This line is logged at most once for the lifetime of the process.\n"
     ]
    },
    {
     "name": "stdout",
     "output_type": "stream",
     "text": [
      "7615/7615 [==============================] - 271s 33ms/step - loss: 0.2987 - val_loss: 0.2518\n",
      "Epoch 2/3\n",
      "7615/7615 [==============================] - 247s 32ms/step - loss: 0.2060 - val_loss: 0.2431\n",
      "Epoch 3/3\n",
      "7615/7615 [==============================] - 247s 32ms/step - loss: 0.1524 - val_loss: 0.2525\n"
     ]
    },
    {
     "data": {
      "text/plain": [
       "<keras.src.callbacks.History at 0x7f2163a55bd0>"
      ]
     },
     "execution_count": 22,
     "metadata": {},
     "output_type": "execute_result"
    }
   ],
   "source": [
    "model.fit(x=tf_train_set, validation_data=tf_validation_set, epochs=3)"
   ]
  },
  {
   "cell_type": "code",
   "execution_count": 23,
   "id": "cfb3cc07-cdc8-4729-8763-c4960d5c4283",
   "metadata": {},
   "outputs": [
    {
     "name": "stdout",
     "output_type": "stream",
     "text": [
      "1904/1904 [==============================] - 18s 9ms/step - loss: 0.2525\n"
     ]
    }
   ],
   "source": [
    "result = model.evaluate(x=tf_validation_set)"
   ]
  },
  {
   "cell_type": "code",
   "execution_count": null,
   "id": "23718942-866a-4d26-9ab2-013a097f1b10",
   "metadata": {},
   "outputs": [],
   "source": [
    "presult = model.predict(x=tf_validation_set)"
   ]
  },
  {
   "cell_type": "code",
   "execution_count": null,
   "id": "9ce9c883-8406-43d2-8a1a-fc4c755081bd",
   "metadata": {},
   "outputs": [],
   "source": [
    "presult"
   ]
  },
  {
   "cell_type": "code",
   "execution_count": null,
   "id": "e34bded9-5d5b-4e1e-a486-a62eb901267b",
   "metadata": {},
   "outputs": [],
   "source": [
    "tokenized_input"
   ]
  },
  {
   "cell_type": "code",
   "execution_count": null,
   "id": "deef0cac-46e4-4bef-83e9-9c4824a6b0cc",
   "metadata": {},
   "outputs": [],
   "source": [
    "from sklearn.metrics import confusion_matrix\n",
    "y_test=tokenized_input['test'][\"ner_tag\"]\n",
    "y_pred = np.argmax(presult, axis=0)\n",
    "conf_mat = confusion_matrix(y_test, y_pred)"
   ]
  },
  {
   "cell_type": "code",
   "execution_count": null,
   "id": "4493183a-facc-43b7-87d4-af28506b754a",
   "metadata": {},
   "outputs": [],
   "source": [
    "from sklearn.metrics import confusion_matrix\n",
    "y_test=tokenized_inputs[\"labels\"]\n",
    "y_pred = model.predict(x=tf_validation_set)\n",
    "# y_pred = np.argmax(y_pred, axis=2)\n",
    "\n",
    "conf_mat = confusion_matrix(y_test, y_pred)"
   ]
  },
  {
   "cell_type": "code",
   "execution_count": null,
   "id": "2600549c-3242-4e95-8974-c5fe8c4f4bfe",
   "metadata": {},
   "outputs": [],
   "source": [
    "model.save_pretrained(\"./model/classification-ner\")\n",
    "tokenizer.save_pretrained(\"./model/classification-ner\")"
   ]
  },
  {
   "cell_type": "code",
   "execution_count": 35,
   "id": "714b8014-fa51-4dad-a320-ea2f14564534",
   "metadata": {},
   "outputs": [
    {
     "data": {
      "text/plain": [
       "[{'label': 'firstname', 'score': 0.8217609524726868}]"
      ]
     },
     "execution_count": 35,
     "metadata": {},
     "output_type": "execute_result"
    }
   ],
   "source": [
    "from transformers import TextClassificationPipeline\n",
    "\n",
    "text = [\"sihag\"]\n",
    "pipe = TextClassificationPipeline(model=model, tokenizer=tokenizer)\n",
    "pipe(text)"
   ]
  },
  {
   "cell_type": "code",
   "execution_count": null,
   "id": "36b830d2-7c91-477f-b520-83f478ec98de",
   "metadata": {},
   "outputs": [],
   "source": [
    "\n",
    "Txt: File\n"
   ]
  }
 ],
 "metadata": {
  "kernelspec": {
   "display_name": "llm",
   "language": "python",
   "name": "llm"
  },
  "language_info": {
   "codemirror_mode": {
    "name": "ipython",
    "version": 3
   },
   "file_extension": ".py",
   "mimetype": "text/x-python",
   "name": "python",
   "nbconvert_exporter": "python",
   "pygments_lexer": "ipython3",
   "version": "3.10.12"
  }
 },
 "nbformat": 4,
 "nbformat_minor": 5
}
